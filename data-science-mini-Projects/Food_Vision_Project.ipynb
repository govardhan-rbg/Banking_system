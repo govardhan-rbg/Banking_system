{
  "nbformat": 4,
  "nbformat_minor": 0,
  "metadata": {
    "colab": {
      "name": "Food_Vision_Project.ipynb",
      "provenance": [],
      "collapsed_sections": [],
      "toc_visible": true,
      "authorship_tag": "ABX9TyOX7kANJlgU4g7XtNL545yN",
      "include_colab_link": true
    },
    "kernelspec": {
      "name": "python3",
      "display_name": "Python 3"
    },
    "language_info": {
      "name": "python"
    },
    "accelerator": "GPU"
  },
  "cells": [
    {
      "cell_type": "markdown",
      "metadata": {
        "id": "view-in-github",
        "colab_type": "text"
      },
      "source": [
        "<a href=\"https://colab.research.google.com/github/govardhan-rbg/Banking_system/blob/main/data-science-mini-Projects/Food_Vision_Project.ipynb\" target=\"_parent\"><img src=\"https://colab.research.google.com/assets/colab-badge.svg\" alt=\"Open In Colab\"/></a>"
      ]
    },
    {
      "cell_type": "code",
      "metadata": {
        "colab": {
          "base_uri": "https://localhost:8080/"
        },
        "id": "qKo6GrnzwNAM",
        "outputId": "8bb80915-9e3d-4dda-cf90-14bb1c0f71f3"
      },
      "source": [
        "# since tensorflow version > 2.5 mixed precision provides an error  \n",
        "\n",
        "!pip install tensorflow==2.4.1"
      ],
      "execution_count": null,
      "outputs": [
        {
          "output_type": "stream",
          "text": [
            "Collecting tensorflow==2.4.1\n",
            "  Downloading tensorflow-2.4.1-cp37-cp37m-manylinux2010_x86_64.whl (394.3 MB)\n",
            "\u001b[K     |████████████████████████████████| 394.3 MB 13 kB/s \n",
            "\u001b[?25hCollecting h5py~=2.10.0\n",
            "  Downloading h5py-2.10.0-cp37-cp37m-manylinux1_x86_64.whl (2.9 MB)\n",
            "\u001b[K     |████████████████████████████████| 2.9 MB 38.6 MB/s \n",
            "\u001b[?25hRequirement already satisfied: astunparse~=1.6.3 in /usr/local/lib/python3.7/dist-packages (from tensorflow==2.4.1) (1.6.3)\n",
            "Requirement already satisfied: opt-einsum~=3.3.0 in /usr/local/lib/python3.7/dist-packages (from tensorflow==2.4.1) (3.3.0)\n",
            "Requirement already satisfied: typing-extensions~=3.7.4 in /usr/local/lib/python3.7/dist-packages (from tensorflow==2.4.1) (3.7.4.3)\n",
            "Requirement already satisfied: wheel~=0.35 in /usr/local/lib/python3.7/dist-packages (from tensorflow==2.4.1) (0.36.2)\n",
            "Requirement already satisfied: google-pasta~=0.2 in /usr/local/lib/python3.7/dist-packages (from tensorflow==2.4.1) (0.2.0)\n",
            "Requirement already satisfied: protobuf>=3.9.2 in /usr/local/lib/python3.7/dist-packages (from tensorflow==2.4.1) (3.17.3)\n",
            "Requirement already satisfied: wrapt~=1.12.1 in /usr/local/lib/python3.7/dist-packages (from tensorflow==2.4.1) (1.12.1)\n",
            "Collecting gast==0.3.3\n",
            "  Downloading gast-0.3.3-py2.py3-none-any.whl (9.7 kB)\n",
            "Requirement already satisfied: six~=1.15.0 in /usr/local/lib/python3.7/dist-packages (from tensorflow==2.4.1) (1.15.0)\n",
            "Requirement already satisfied: termcolor~=1.1.0 in /usr/local/lib/python3.7/dist-packages (from tensorflow==2.4.1) (1.1.0)\n",
            "Collecting tensorflow-estimator<2.5.0,>=2.4.0\n",
            "  Downloading tensorflow_estimator-2.4.0-py2.py3-none-any.whl (462 kB)\n",
            "\u001b[K     |████████████████████████████████| 462 kB 64.9 MB/s \n",
            "\u001b[?25hRequirement already satisfied: tensorboard~=2.4 in /usr/local/lib/python3.7/dist-packages (from tensorflow==2.4.1) (2.5.0)\n",
            "Requirement already satisfied: absl-py~=0.10 in /usr/local/lib/python3.7/dist-packages (from tensorflow==2.4.1) (0.12.0)\n",
            "Collecting grpcio~=1.32.0\n",
            "  Downloading grpcio-1.32.0-cp37-cp37m-manylinux2014_x86_64.whl (3.8 MB)\n",
            "\u001b[K     |████████████████████████████████| 3.8 MB 31.4 MB/s \n",
            "\u001b[?25hRequirement already satisfied: flatbuffers~=1.12.0 in /usr/local/lib/python3.7/dist-packages (from tensorflow==2.4.1) (1.12)\n",
            "Requirement already satisfied: numpy~=1.19.2 in /usr/local/lib/python3.7/dist-packages (from tensorflow==2.4.1) (1.19.5)\n",
            "Requirement already satisfied: keras-preprocessing~=1.1.2 in /usr/local/lib/python3.7/dist-packages (from tensorflow==2.4.1) (1.1.2)\n",
            "Requirement already satisfied: tensorboard-plugin-wit>=1.6.0 in /usr/local/lib/python3.7/dist-packages (from tensorboard~=2.4->tensorflow==2.4.1) (1.8.0)\n",
            "Requirement already satisfied: setuptools>=41.0.0 in /usr/local/lib/python3.7/dist-packages (from tensorboard~=2.4->tensorflow==2.4.1) (57.2.0)\n",
            "Requirement already satisfied: tensorboard-data-server<0.7.0,>=0.6.0 in /usr/local/lib/python3.7/dist-packages (from tensorboard~=2.4->tensorflow==2.4.1) (0.6.1)\n",
            "Requirement already satisfied: werkzeug>=0.11.15 in /usr/local/lib/python3.7/dist-packages (from tensorboard~=2.4->tensorflow==2.4.1) (1.0.1)\n",
            "Requirement already satisfied: google-auth-oauthlib<0.5,>=0.4.1 in /usr/local/lib/python3.7/dist-packages (from tensorboard~=2.4->tensorflow==2.4.1) (0.4.4)\n",
            "Requirement already satisfied: requests<3,>=2.21.0 in /usr/local/lib/python3.7/dist-packages (from tensorboard~=2.4->tensorflow==2.4.1) (2.23.0)\n",
            "Requirement already satisfied: markdown>=2.6.8 in /usr/local/lib/python3.7/dist-packages (from tensorboard~=2.4->tensorflow==2.4.1) (3.3.4)\n",
            "Requirement already satisfied: google-auth<2,>=1.6.3 in /usr/local/lib/python3.7/dist-packages (from tensorboard~=2.4->tensorflow==2.4.1) (1.32.1)\n",
            "Requirement already satisfied: pyasn1-modules>=0.2.1 in /usr/local/lib/python3.7/dist-packages (from google-auth<2,>=1.6.3->tensorboard~=2.4->tensorflow==2.4.1) (0.2.8)\n",
            "Requirement already satisfied: rsa<5,>=3.1.4 in /usr/local/lib/python3.7/dist-packages (from google-auth<2,>=1.6.3->tensorboard~=2.4->tensorflow==2.4.1) (4.7.2)\n",
            "Requirement already satisfied: cachetools<5.0,>=2.0.0 in /usr/local/lib/python3.7/dist-packages (from google-auth<2,>=1.6.3->tensorboard~=2.4->tensorflow==2.4.1) (4.2.2)\n",
            "Requirement already satisfied: requests-oauthlib>=0.7.0 in /usr/local/lib/python3.7/dist-packages (from google-auth-oauthlib<0.5,>=0.4.1->tensorboard~=2.4->tensorflow==2.4.1) (1.3.0)\n",
            "Requirement already satisfied: importlib-metadata in /usr/local/lib/python3.7/dist-packages (from markdown>=2.6.8->tensorboard~=2.4->tensorflow==2.4.1) (4.6.1)\n",
            "Requirement already satisfied: pyasn1<0.5.0,>=0.4.6 in /usr/local/lib/python3.7/dist-packages (from pyasn1-modules>=0.2.1->google-auth<2,>=1.6.3->tensorboard~=2.4->tensorflow==2.4.1) (0.4.8)\n",
            "Requirement already satisfied: certifi>=2017.4.17 in /usr/local/lib/python3.7/dist-packages (from requests<3,>=2.21.0->tensorboard~=2.4->tensorflow==2.4.1) (2021.5.30)\n",
            "Requirement already satisfied: idna<3,>=2.5 in /usr/local/lib/python3.7/dist-packages (from requests<3,>=2.21.0->tensorboard~=2.4->tensorflow==2.4.1) (2.10)\n",
            "Requirement already satisfied: chardet<4,>=3.0.2 in /usr/local/lib/python3.7/dist-packages (from requests<3,>=2.21.0->tensorboard~=2.4->tensorflow==2.4.1) (3.0.4)\n",
            "Requirement already satisfied: urllib3!=1.25.0,!=1.25.1,<1.26,>=1.21.1 in /usr/local/lib/python3.7/dist-packages (from requests<3,>=2.21.0->tensorboard~=2.4->tensorflow==2.4.1) (1.24.3)\n",
            "Requirement already satisfied: oauthlib>=3.0.0 in /usr/local/lib/python3.7/dist-packages (from requests-oauthlib>=0.7.0->google-auth-oauthlib<0.5,>=0.4.1->tensorboard~=2.4->tensorflow==2.4.1) (3.1.1)\n",
            "Requirement already satisfied: zipp>=0.5 in /usr/local/lib/python3.7/dist-packages (from importlib-metadata->markdown>=2.6.8->tensorboard~=2.4->tensorflow==2.4.1) (3.5.0)\n",
            "Installing collected packages: grpcio, tensorflow-estimator, h5py, gast, tensorflow\n",
            "  Attempting uninstall: grpcio\n",
            "    Found existing installation: grpcio 1.34.1\n",
            "    Uninstalling grpcio-1.34.1:\n",
            "      Successfully uninstalled grpcio-1.34.1\n",
            "  Attempting uninstall: tensorflow-estimator\n",
            "    Found existing installation: tensorflow-estimator 2.5.0\n",
            "    Uninstalling tensorflow-estimator-2.5.0:\n",
            "      Successfully uninstalled tensorflow-estimator-2.5.0\n",
            "  Attempting uninstall: h5py\n",
            "    Found existing installation: h5py 3.1.0\n",
            "    Uninstalling h5py-3.1.0:\n",
            "      Successfully uninstalled h5py-3.1.0\n",
            "  Attempting uninstall: gast\n",
            "    Found existing installation: gast 0.4.0\n",
            "    Uninstalling gast-0.4.0:\n",
            "      Successfully uninstalled gast-0.4.0\n",
            "  Attempting uninstall: tensorflow\n",
            "    Found existing installation: tensorflow 2.5.0\n",
            "    Uninstalling tensorflow-2.5.0:\n",
            "      Successfully uninstalled tensorflow-2.5.0\n",
            "Successfully installed gast-0.3.3 grpcio-1.32.0 h5py-2.10.0 tensorflow-2.4.1 tensorflow-estimator-2.4.0\n"
          ],
          "name": "stdout"
        }
      ]
    },
    {
      "cell_type": "code",
      "metadata": {
        "colab": {
          "base_uri": "https://localhost:8080/"
        },
        "id": "oMsofYKQwVL7",
        "outputId": "29474eff-09f4-4149-a4ae-cc096e08e629"
      },
      "source": [
        "!nvidia-smi"
      ],
      "execution_count": null,
      "outputs": [
        {
          "output_type": "stream",
          "text": [
            "Sun Aug  1 08:09:22 2021       \n",
            "+-----------------------------------------------------------------------------+\n",
            "| NVIDIA-SMI 470.42.01    Driver Version: 460.32.03    CUDA Version: 11.2     |\n",
            "|-------------------------------+----------------------+----------------------+\n",
            "| GPU  Name        Persistence-M| Bus-Id        Disp.A | Volatile Uncorr. ECC |\n",
            "| Fan  Temp  Perf  Pwr:Usage/Cap|         Memory-Usage | GPU-Util  Compute M. |\n",
            "|                               |                      |               MIG M. |\n",
            "|===============================+======================+======================|\n",
            "|   0  Tesla T4            Off  | 00000000:00:04.0 Off |                    0 |\n",
            "| N/A   51C    P8     9W /  70W |      0MiB / 15109MiB |      0%      Default |\n",
            "|                               |                      |                  N/A |\n",
            "+-------------------------------+----------------------+----------------------+\n",
            "                                                                               \n",
            "+-----------------------------------------------------------------------------+\n",
            "| Processes:                                                                  |\n",
            "|  GPU   GI   CI        PID   Type   Process name                  GPU Memory |\n",
            "|        ID   ID                                                   Usage      |\n",
            "|=============================================================================|\n",
            "|  No running processes found                                                 |\n",
            "+-----------------------------------------------------------------------------+\n"
          ],
          "name": "stdout"
        }
      ]
    },
    {
      "cell_type": "code",
      "metadata": {
        "colab": {
          "base_uri": "https://localhost:8080/"
        },
        "id": "ocxX-euVwbXp",
        "outputId": "e8e27483-7109-4318-e51e-6f6393359817"
      },
      "source": [
        "!nvidia-smi -L"
      ],
      "execution_count": null,
      "outputs": [
        {
          "output_type": "stream",
          "text": [
            "GPU 0: Tesla T4 (UUID: GPU-86f3de8e-8cb7-a2ed-2bd4-b17e95a0b7b1)\n"
          ],
          "name": "stdout"
        }
      ]
    },
    {
      "cell_type": "code",
      "metadata": {
        "colab": {
          "base_uri": "https://localhost:8080/"
        },
        "id": "izjh-476wghg",
        "outputId": "9a31a369-af6f-4e34-bbfd-effdc27fa4a2"
      },
      "source": [
        "!wget https://raw.githubusercontent.com/mrdbourke/tensorflow-deep-learning/main/extras/helper_functions.py"
      ],
      "execution_count": null,
      "outputs": [
        {
          "output_type": "stream",
          "text": [
            "--2021-08-01 08:09:24--  https://raw.githubusercontent.com/mrdbourke/tensorflow-deep-learning/main/extras/helper_functions.py\n",
            "Resolving raw.githubusercontent.com (raw.githubusercontent.com)... 185.199.108.133, 185.199.109.133, 185.199.110.133, ...\n",
            "Connecting to raw.githubusercontent.com (raw.githubusercontent.com)|185.199.108.133|:443... connected.\n",
            "HTTP request sent, awaiting response... 200 OK\n",
            "Length: 10246 (10K) [text/plain]\n",
            "Saving to: ‘helper_functions.py’\n",
            "\n",
            "\rhelper_functions.py   0%[                    ]       0  --.-KB/s               \rhelper_functions.py 100%[===================>]  10.01K  --.-KB/s    in 0s      \n",
            "\n",
            "2021-08-01 08:09:24 (108 MB/s) - ‘helper_functions.py’ saved [10246/10246]\n",
            "\n"
          ],
          "name": "stdout"
        }
      ]
    },
    {
      "cell_type": "code",
      "metadata": {
        "id": "KqMX4pcGwlec"
      },
      "source": [
        "from helper_functions import create_tensorboard_callback , compare_historys , load_and_prep_image , plot_loss_curves "
      ],
      "execution_count": null,
      "outputs": []
    },
    {
      "cell_type": "code",
      "metadata": {
        "id": "hKZuShVxwrFX"
      },
      "source": [
        "import tensorflow as tf\n",
        "import tensorflow_datasets as tfds"
      ],
      "execution_count": null,
      "outputs": []
    },
    {
      "cell_type": "code",
      "metadata": {
        "colab": {
          "base_uri": "https://localhost:8080/"
        },
        "id": "ERjviwxJwtcl",
        "outputId": "fdba3a1b-32ed-4790-c13f-68cb18259b5c"
      },
      "source": [
        "datasets_list = tfds.list_builders()\n",
        "'food101' in datasets_list"
      ],
      "execution_count": null,
      "outputs": [
        {
          "output_type": "execute_result",
          "data": {
            "text/plain": [
              "True"
            ]
          },
          "metadata": {
            "tags": []
          },
          "execution_count": 7
        }
      ]
    },
    {
      "cell_type": "code",
      "metadata": {
        "id": "O4KzVuF9wvZ-"
      },
      "source": [
        "(train_data , test_data) , ds_info = tfds.load('food101' , \n",
        "                                               split = ['train' , 'validation'] , \n",
        "                                               as_supervised = 'True' , \n",
        "                                               shuffle_files = True , \n",
        "                                               with_info = True)"
      ],
      "execution_count": null,
      "outputs": []
    },
    {
      "cell_type": "code",
      "metadata": {
        "colab": {
          "base_uri": "https://localhost:8080/"
        },
        "id": "noG5qLzdw0Ru",
        "outputId": "a7c68ac3-3c72-4899-df5b-eac6f580cbac"
      },
      "source": [
        "ds_info"
      ],
      "execution_count": null,
      "outputs": [
        {
          "output_type": "execute_result",
          "data": {
            "text/plain": [
              "tfds.core.DatasetInfo(\n",
              "    name='food101',\n",
              "    version=2.0.0,\n",
              "    description='This dataset consists of 101 food categories, with 101'000 images. For each class, 250 manually reviewed test images are provided as well as 750 training images. On purpose, the training images were not cleaned, and thus still contain some amount of noise. This comes mostly in the form of intense colors and sometimes wrong labels. All images were rescaled to have a maximum side length of 512 pixels.',\n",
              "    homepage='https://www.vision.ee.ethz.ch/datasets_extra/food-101/',\n",
              "    features=FeaturesDict({\n",
              "        'image': Image(shape=(None, None, 3), dtype=tf.uint8),\n",
              "        'label': ClassLabel(shape=(), dtype=tf.int64, num_classes=101),\n",
              "    }),\n",
              "    total_num_examples=101000,\n",
              "    splits={\n",
              "        'train': 75750,\n",
              "        'validation': 25250,\n",
              "    },\n",
              "    supervised_keys=('image', 'label'),\n",
              "    citation=\"\"\"@inproceedings{bossard14,\n",
              "      title = {Food-101 -- Mining Discriminative Components with Random Forests},\n",
              "      author = {Bossard, Lukas and Guillaumin, Matthieu and Van Gool, Luc},\n",
              "      booktitle = {European Conference on Computer Vision},\n",
              "      year = {2014}\n",
              "    }\"\"\",\n",
              "    redistribution_info=,\n",
              ")"
            ]
          },
          "metadata": {
            "tags": []
          },
          "execution_count": 10
        }
      ]
    },
    {
      "cell_type": "code",
      "metadata": {
        "colab": {
          "base_uri": "https://localhost:8080/"
        },
        "id": "xBLA32v9w5M8",
        "outputId": "b8d3b776-cf6a-4107-9698-3cff01989ec5"
      },
      "source": [
        "ds_info.features"
      ],
      "execution_count": null,
      "outputs": [
        {
          "output_type": "execute_result",
          "data": {
            "text/plain": [
              "FeaturesDict({\n",
              "    'image': Image(shape=(None, None, 3), dtype=tf.uint8),\n",
              "    'label': ClassLabel(shape=(), dtype=tf.int64, num_classes=101),\n",
              "})"
            ]
          },
          "metadata": {
            "tags": []
          },
          "execution_count": 11
        }
      ]
    },
    {
      "cell_type": "code",
      "metadata": {
        "colab": {
          "base_uri": "https://localhost:8080/"
        },
        "id": "N4Z6D_psw5H5",
        "outputId": "83cc6cdc-29e3-4268-80fa-b5e158ae8b11"
      },
      "source": [
        "ds_info.features['image']"
      ],
      "execution_count": null,
      "outputs": [
        {
          "output_type": "execute_result",
          "data": {
            "text/plain": [
              "Image(shape=(None, None, 3), dtype=tf.uint8)"
            ]
          },
          "metadata": {
            "tags": []
          },
          "execution_count": 12
        }
      ]
    },
    {
      "cell_type": "code",
      "metadata": {
        "colab": {
          "base_uri": "https://localhost:8080/"
        },
        "id": "GowTA4ivw5HN",
        "outputId": "397227bf-4d7b-4923-c627-1898ae1ef118"
      },
      "source": [
        "classes = ds_info.features['label'].names\n",
        "classes"
      ],
      "execution_count": null,
      "outputs": [
        {
          "output_type": "execute_result",
          "data": {
            "text/plain": [
              "['apple_pie',\n",
              " 'baby_back_ribs',\n",
              " 'baklava',\n",
              " 'beef_carpaccio',\n",
              " 'beef_tartare',\n",
              " 'beet_salad',\n",
              " 'beignets',\n",
              " 'bibimbap',\n",
              " 'bread_pudding',\n",
              " 'breakfast_burrito',\n",
              " 'bruschetta',\n",
              " 'caesar_salad',\n",
              " 'cannoli',\n",
              " 'caprese_salad',\n",
              " 'carrot_cake',\n",
              " 'ceviche',\n",
              " 'cheesecake',\n",
              " 'cheese_plate',\n",
              " 'chicken_curry',\n",
              " 'chicken_quesadilla',\n",
              " 'chicken_wings',\n",
              " 'chocolate_cake',\n",
              " 'chocolate_mousse',\n",
              " 'churros',\n",
              " 'clam_chowder',\n",
              " 'club_sandwich',\n",
              " 'crab_cakes',\n",
              " 'creme_brulee',\n",
              " 'croque_madame',\n",
              " 'cup_cakes',\n",
              " 'deviled_eggs',\n",
              " 'donuts',\n",
              " 'dumplings',\n",
              " 'edamame',\n",
              " 'eggs_benedict',\n",
              " 'escargots',\n",
              " 'falafel',\n",
              " 'filet_mignon',\n",
              " 'fish_and_chips',\n",
              " 'foie_gras',\n",
              " 'french_fries',\n",
              " 'french_onion_soup',\n",
              " 'french_toast',\n",
              " 'fried_calamari',\n",
              " 'fried_rice',\n",
              " 'frozen_yogurt',\n",
              " 'garlic_bread',\n",
              " 'gnocchi',\n",
              " 'greek_salad',\n",
              " 'grilled_cheese_sandwich',\n",
              " 'grilled_salmon',\n",
              " 'guacamole',\n",
              " 'gyoza',\n",
              " 'hamburger',\n",
              " 'hot_and_sour_soup',\n",
              " 'hot_dog',\n",
              " 'huevos_rancheros',\n",
              " 'hummus',\n",
              " 'ice_cream',\n",
              " 'lasagna',\n",
              " 'lobster_bisque',\n",
              " 'lobster_roll_sandwich',\n",
              " 'macaroni_and_cheese',\n",
              " 'macarons',\n",
              " 'miso_soup',\n",
              " 'mussels',\n",
              " 'nachos',\n",
              " 'omelette',\n",
              " 'onion_rings',\n",
              " 'oysters',\n",
              " 'pad_thai',\n",
              " 'paella',\n",
              " 'pancakes',\n",
              " 'panna_cotta',\n",
              " 'peking_duck',\n",
              " 'pho',\n",
              " 'pizza',\n",
              " 'pork_chop',\n",
              " 'poutine',\n",
              " 'prime_rib',\n",
              " 'pulled_pork_sandwich',\n",
              " 'ramen',\n",
              " 'ravioli',\n",
              " 'red_velvet_cake',\n",
              " 'risotto',\n",
              " 'samosa',\n",
              " 'sashimi',\n",
              " 'scallops',\n",
              " 'seaweed_salad',\n",
              " 'shrimp_and_grits',\n",
              " 'spaghetti_bolognese',\n",
              " 'spaghetti_carbonara',\n",
              " 'spring_rolls',\n",
              " 'steak',\n",
              " 'strawberry_shortcake',\n",
              " 'sushi',\n",
              " 'tacos',\n",
              " 'takoyaki',\n",
              " 'tiramisu',\n",
              " 'tuna_tartare',\n",
              " 'waffles']"
            ]
          },
          "metadata": {
            "tags": []
          },
          "execution_count": 13
        }
      ]
    },
    {
      "cell_type": "code",
      "metadata": {
        "colab": {
          "base_uri": "https://localhost:8080/"
        },
        "id": "FYBk5sFPw5Cd",
        "outputId": "17d9ac22-1ade-4b6a-a00a-9ea1ac6721dc"
      },
      "source": [
        "sample_train_data = train_data.take(1)\n",
        "sample_train_data"
      ],
      "execution_count": null,
      "outputs": [
        {
          "output_type": "execute_result",
          "data": {
            "text/plain": [
              "<TakeDataset shapes: ((None, None, 3), ()), types: (tf.uint8, tf.int64)>"
            ]
          },
          "metadata": {
            "tags": []
          },
          "execution_count": 14
        }
      ]
    },
    {
      "cell_type": "code",
      "metadata": {
        "colab": {
          "base_uri": "https://localhost:8080/"
        },
        "id": "AIoNgt4cw5Bz",
        "outputId": "18b0d142-f185-4956-b69b-1262968d0832"
      },
      "source": [
        "len(sample_train_data)"
      ],
      "execution_count": null,
      "outputs": [
        {
          "output_type": "execute_result",
          "data": {
            "text/plain": [
              "1"
            ]
          },
          "metadata": {
            "tags": []
          },
          "execution_count": 15
        }
      ]
    },
    {
      "cell_type": "code",
      "metadata": {
        "colab": {
          "base_uri": "https://localhost:8080/"
        },
        "id": "aSKlFhdJw49N",
        "outputId": "679005f9-0fc9-425c-d8bb-7eb81f9c0597"
      },
      "source": [
        "for image , label in sample_train_data :\n",
        "  print(f\"\"\"\n",
        "  Image shape : {image.shape} , \n",
        "  Image dtype : {image.dtype} ,\n",
        "  Image label : {label} ,\n",
        "  Image class : {classes[label.numpy()]}\n",
        "  \"\"\")  "
      ],
      "execution_count": null,
      "outputs": [
        {
          "output_type": "stream",
          "text": [
            "\n",
            "  Image shape : (384, 512, 3) , \n",
            "  Image dtype : <dtype: 'uint8'> ,\n",
            "  Image label : 97 ,\n",
            "  Image class : takoyaki\n",
            "  \n"
          ],
          "name": "stdout"
        }
      ]
    },
    {
      "cell_type": "code",
      "metadata": {
        "id": "oA-O2f01w48i"
      },
      "source": [
        "import matplotlib.pyplot as plt\n",
        "import matplotlib.image as imge\n",
        "def get_image_details(image = image , label = label ):\n",
        "  plt.imshow(image)\n",
        "  plt.title(f\"\"\"\n",
        "  Image shape : {image.shape} , \n",
        "  Image dtype : {image.dtype} ,\n",
        "  Image label : {label} ,\n",
        "  Image class : {classes[label.numpy()]}\n",
        "  \"\"\")\n",
        "  plt.axis(False)"
      ],
      "execution_count": null,
      "outputs": []
    },
    {
      "cell_type": "code",
      "metadata": {
        "colab": {
          "base_uri": "https://localhost:8080/",
          "height": 339
        },
        "id": "mIHhuiYJw44D",
        "outputId": "a83d3e65-12b1-4090-fa49-fa9b020d3174"
      },
      "source": [
        "get_image_details()"
      ],
      "execution_count": null,
      "outputs": [
        {
          "output_type": "display_data",
          "data": {
            "image/png": "[encoded data removed]",
            "text/plain": [
              "<Figure size 432x288 with 1 Axes>"
            ]
          },
          "metadata": {
            "tags": [],
            "needs_background": "light"
          }
        }
      ]
    },
    {
      "cell_type": "code",
      "metadata": {
        "id": "4nNgcJt1w43S"
      },
      "source": [
        "def preprocess_image(image , label , image_shape_x = 224 , image_shape_y = 224 ):\n",
        "  image = tf.image.resize(image , [image_shape_x , image_shape_y])\n",
        "  return tf.cast(image , tf.float32) , label"
      ],
      "execution_count": null,
      "outputs": []
    },
    {
      "cell_type": "code",
      "metadata": {
        "id": "KYO987cCw4yg"
      },
      "source": [
        " preprocessed_image , label = preprocess_image(image , label)"
      ],
      "execution_count": null,
      "outputs": []
    },
    {
      "cell_type": "code",
      "metadata": {
        "colab": {
          "base_uri": "https://localhost:8080/",
          "height": 356
        },
        "id": "sMlc30Bsw4x2",
        "outputId": "2992c2b5-ac9e-4ca9-ef4c-cd8d03b3d172"
      },
      "source": [
        "get_image_details(image = preprocessed_image)"
      ],
      "execution_count": null,
      "outputs": [
        {
          "output_type": "stream",
          "text": [
            "WARNING:matplotlib.image:Clipping input data to the valid range for imshow with RGB data ([0..1] for floats or [0..255] for integers).\n"
          ],
          "name": "stderr"
        },
        {
          "output_type": "display_data",
          "data": {
            "image/png": "[encoded data removed]",
            "text/plain": [
              "<Figure size 432x288 with 1 Axes>"
            ]
          },
          "metadata": {
            "tags": [],
            "needs_background": "light"
          }
        }
      ]
    },
    {
      "cell_type": "code",
      "metadata": {
        "id": "-DVooHQcw4tW"
      },
      "source": [
        "# preprocessing all train data images\n",
        "train_data = train_data.map(preprocess_image , num_parallel_calls= tf.data.AUTOTUNE)\n",
        "\n",
        "# shuffling and making batches of train data\n",
        "train_data = train_data.shuffle(buffer_size = 1000).batch(batch_size = 32).prefetch(buffer_size = tf.data.AUTOTUNE)\n",
        "\n",
        "# preprocessing all test data images\n",
        "test_data = test_data.map(preprocess_image , num_parallel_calls=tf.data.AUTOTUNE).batch(batch_size = 32).prefetch(buffer_size = tf.data.AUTOTUNE)"
      ],
      "execution_count": null,
      "outputs": []
    },
    {
      "cell_type": "code",
      "metadata": {
        "colab": {
          "base_uri": "https://localhost:8080/"
        },
        "id": "Dsw62Lbgw4sp",
        "outputId": "2ad28fba-ef75-4651-a0c1-cdd16bbe734c"
      },
      "source": [
        "len(train_data) , len(test_data)"
      ],
      "execution_count": null,
      "outputs": [
        {
          "output_type": "execute_result",
          "data": {
            "text/plain": [
              "(2368, 790)"
            ]
          },
          "metadata": {
            "tags": []
          },
          "execution_count": 23
        }
      ]
    },
    {
      "cell_type": "code",
      "metadata": {
        "id": "D7xVjjW9w4oV"
      },
      "source": [
        "def create_model_checkPoint_callback(checkpoint_path ):\n",
        "  model_checkPoint_callback = tf.keras.callbacks.ModelCheckpoint(checkpoint_path , \n",
        "                                                                 monitor = 'val_acc' , \n",
        "                                                                 verbose = 1 ,  \n",
        "                                                                 save_weights_only = True , \n",
        "                                                                 save_best_only = True)\n",
        "  \n",
        "  return model_checkPoint_callback"
      ],
      "execution_count": null,
      "outputs": []
    },
    {
      "cell_type": "code",
      "metadata": {
        "id": "WQKYY4inw4no"
      },
      "source": [
        "checkpoint_path = '/content/model_checkpoint_callback_files/checkpoint.ckpt'"
      ],
      "execution_count": null,
      "outputs": []
    },
    {
      "cell_type": "code",
      "metadata": {
        "colab": {
          "base_uri": "https://localhost:8080/"
        },
        "id": "sqqEW-_Ow4ja",
        "outputId": "37a686af-bb61-4cd7-a421-75bc49714de9"
      },
      "source": [
        "from tensorflow.keras import mixed_precision\n",
        "mixed_precision.set_global_policy('mixed_float16')"
      ],
      "execution_count": null,
      "outputs": [
        {
          "output_type": "stream",
          "text": [
            "INFO:tensorflow:Mixed precision compatibility check (mixed_float16): OK\n",
            "Your GPU will likely run quickly with dtype policy mixed_float16 as it has compute capability of at least 7.0. Your GPU: Tesla T4, compute capability 7.5\n"
          ],
          "name": "stdout"
        },
        {
          "output_type": "stream",
          "text": [
            "INFO:tensorflow:Mixed precision compatibility check (mixed_float16): OK\n",
            "Your GPU will likely run quickly with dtype policy mixed_float16 as it has compute capability of at least 7.0. Your GPU: Tesla T4, compute capability 7.5\n"
          ],
          "name": "stderr"
        }
      ]
    },
    {
      "cell_type": "code",
      "metadata": {
        "colab": {
          "base_uri": "https://localhost:8080/"
        },
        "id": "1fylD0gIw4iY",
        "outputId": "37c65df6-1ef8-4a67-e678-17e3d80edc4c"
      },
      "source": [
        "mixed_precision.global_policy()"
      ],
      "execution_count": null,
      "outputs": [
        {
          "output_type": "execute_result",
          "data": {
            "text/plain": [
              "<Policy \"mixed_float16\">"
            ]
          },
          "metadata": {
            "tags": []
          },
          "execution_count": 27
        }
      ]
    },
    {
      "cell_type": "code",
      "metadata": {
        "colab": {
          "base_uri": "https://localhost:8080/"
        },
        "id": "CHH2Uo1rxxgk",
        "outputId": "7a5b15a3-a580-4239-8adb-65854ca335b1"
      },
      "source": [
        "base_model = tf.keras.applications.EfficientNetB0(include_top = False)\n",
        "\n",
        "base_model.trainable = False\n",
        "\n",
        "inputs = tf.keras.layers.Input(shape= (224 , 224 , 3) , name = 'Input_Layer')\n",
        "\n",
        "x = base_model(inputs)\n",
        "\n",
        "x = tf.keras.layers.GlobalAveragePooling2D(name = 'Global_Average_Pooling2D')(x)\n",
        "\n",
        "output = tf.keras.layers.Dense(len(classes) , activation = 'softmax' , dtype = tf.float32 , name = 'output_Layer')(x)\n",
        "\n",
        "model = tf.keras.Model(inputs , output)\n",
        "\n",
        "model.compile(loss = 'sparse_categorical_crossentropy' , \n",
        "              optimizer = 'adam' , \n",
        "              metrics = ['accuracy'])\n"
      ],
      "execution_count": null,
      "outputs": [
        {
          "output_type": "stream",
          "text": [
            "Downloading data from https://storage.googleapis.com/keras-applications/efficientnetb0_notop.h5\n",
            "16711680/16705208 [==============================] - 0s 0us/step\n"
          ],
          "name": "stdout"
        }
      ]
    },
    {
      "cell_type": "code",
      "metadata": {
        "colab": {
          "base_uri": "https://localhost:8080/"
        },
        "id": "Ig11LgBLxxbw",
        "outputId": "c9116f61-07e3-4c1a-8932-f2a8991511ef"
      },
      "source": [
        "for layer in model.layers:\n",
        "  print(f\"\"\"\n",
        "  layer_name : {layer.name} , \n",
        "  layer_trainable : {layer.trainable} , \n",
        "  layer_dtype : {layer.dtype} , \n",
        "  layer_dtype_policy : {layer.dtype_policy}\n",
        "  -------------------------->*****<----------------\n",
        "  \"\"\")"
      ],
      "execution_count": null,
      "outputs": [
        {
          "output_type": "stream",
          "text": [
            "\n",
            "  layer_name : Input_Layer , \n",
            "  layer_trainable : True , \n",
            "  layer_dtype : float32 , \n",
            "  layer_dtype_policy : <Policy \"float32\">\n",
            "  -------------------------->*****<----------------\n",
            "  \n",
            "\n",
            "  layer_name : efficientnetb0 , \n",
            "  layer_trainable : False , \n",
            "  layer_dtype : float32 , \n",
            "  layer_dtype_policy : <Policy \"mixed_float16\">\n",
            "  -------------------------->*****<----------------\n",
            "  \n",
            "\n",
            "  layer_name : Global_Average_Pooling2D , \n",
            "  layer_trainable : True , \n",
            "  layer_dtype : float32 , \n",
            "  layer_dtype_policy : <Policy \"mixed_float16\">\n",
            "  -------------------------->*****<----------------\n",
            "  \n",
            "\n",
            "  layer_name : output_Layer , \n",
            "  layer_trainable : True , \n",
            "  layer_dtype : float32 , \n",
            "  layer_dtype_policy : <Policy \"float32\">\n",
            "  -------------------------->*****<----------------\n",
            "  \n"
          ],
          "name": "stdout"
        }
      ]
    },
    {
      "cell_type": "code",
      "metadata": {
        "colab": {
          "base_uri": "https://localhost:8080/"
        },
        "id": "qMXQrbbjxxbB",
        "outputId": "ed42f8f8-1654-43dd-bbe9-008ea4af4796"
      },
      "source": [
        "history_1 = model.fit(train_data , \n",
        "                      epochs = 3 , \n",
        "                      steps_per_epoch = len(train_data) , \n",
        "                      validation_data = test_data , \n",
        "                      validation_steps = int(0.15*len(test_data)) ,\n",
        "                      callbacks = [create_tensorboard_callback('tensorflow_hub' , 'Model_1_without_using_DA_and_Fine_Tuning') , \n",
        "                                   create_model_checkPoint_callback(checkpoint_path)])\n",
        "\n",
        "                                   "
      ],
      "execution_count": null,
      "outputs": [
        {
          "output_type": "stream",
          "text": [
            "Saving TensorBoard log files to: tensorflow_hub/Model_1_without_using_DA_and_Fine_Tuning/20210801-082221\n",
            "Epoch 1/3\n",
            "2368/2368 [==============================] - 235s 83ms/step - loss: 2.3788 - accuracy: 0.4529 - val_loss: 1.2421 - val_accuracy: 0.6687\n",
            "WARNING:tensorflow:Can save best model only with val_acc available, skipping.\n"
          ],
          "name": "stdout"
        },
        {
          "output_type": "stream",
          "text": [
            "WARNING:tensorflow:Can save best model only with val_acc available, skipping.\n"
          ],
          "name": "stderr"
        },
        {
          "output_type": "stream",
          "text": [
            "Epoch 2/3\n",
            "2368/2368 [==============================] - 172s 72ms/step - loss: 1.3842 - accuracy: 0.6422 - val_loss: 1.1249 - val_accuracy: 0.6989\n",
            "WARNING:tensorflow:Can save best model only with val_acc available, skipping.\n"
          ],
          "name": "stdout"
        },
        {
          "output_type": "stream",
          "text": [
            "WARNING:tensorflow:Can save best model only with val_acc available, skipping.\n"
          ],
          "name": "stderr"
        },
        {
          "output_type": "stream",
          "text": [
            "Epoch 3/3\n",
            "2368/2368 [==============================] - 177s 74ms/step - loss: 1.2246 - accuracy: 0.6815 - val_loss: 1.1015 - val_accuracy: 0.6984\n",
            "WARNING:tensorflow:Can save best model only with val_acc available, skipping.\n"
          ],
          "name": "stdout"
        },
        {
          "output_type": "stream",
          "text": [
            "WARNING:tensorflow:Can save best model only with val_acc available, skipping.\n"
          ],
          "name": "stderr"
        }
      ]
    },
    {
      "cell_type": "code",
      "metadata": {
        "colab": {
          "base_uri": "https://localhost:8080/"
        },
        "id": "C_4alLyqxxWe",
        "outputId": "be88e613-ffb9-4e0e-c905-6928a3df58b6"
      },
      "source": [
        "model_1_without_using_DA_and_Fine_Tuning_results = model.evaluate(test_data)\n",
        "model_1_without_using_DA_and_Fine_Tuning_results"
      ],
      "execution_count": null,
      "outputs": [
        {
          "output_type": "stream",
          "text": [
            "790/790 [==============================] - 56s 71ms/step - loss: 1.0938 - accuracy: 0.7046\n"
          ],
          "name": "stdout"
        },
        {
          "output_type": "execute_result",
          "data": {
            "text/plain": [
              "[1.0938106775283813, 0.7045544385910034]"
            ]
          },
          "metadata": {
            "tags": []
          },
          "execution_count": 31
        }
      ]
    },
    {
      "cell_type": "markdown",
      "metadata": {
        "id": "XhlXQVjlyKLB"
      },
      "source": [
        "# **Model using Data Augumentation**"
      ]
    },
    {
      "cell_type": "code",
      "metadata": {
        "id": "3ZNR3HU8xxVv"
      },
      "source": [
        "from tensorflow.keras.layers.experimental import preprocessing\n",
        "\n",
        "data_augumentation = tf.keras.Sequential([\n",
        "                                          preprocessing.RandomFlip('horizontal') , \n",
        "                                          preprocessing.RandomHeight(0.2) , \n",
        "                                          preprocessing.RandomRotation(0.2) , \n",
        "                                          preprocessing.RandomWidth(0.2) , \n",
        "                                          preprocessing.RandomZoom(0.2) \n",
        "] , name = 'Data_Augumentation_layer')"
      ],
      "execution_count": null,
      "outputs": []
    },
    {
      "cell_type": "code",
      "metadata": {
        "id": "xY_hwSUSxxQn"
      },
      "source": [
        "base_model = tf.keras.applications.EfficientNetB0(include_top = False)\n",
        "\n",
        "base_model.trainable = False\n",
        "\n",
        "inputs = tf.keras.layers.Input(shape= (224 , 224 , 3) , name = 'Input_Layer')\n",
        "\n",
        "x = data_augumentation(inputs )\n",
        "\n",
        "x = base_model(x , training = False)\n",
        "\n",
        "x = tf.keras.layers.GlobalAveragePooling2D(name = 'Global_Average_Pooling2D')(x)\n",
        "\n",
        "output = tf.keras.layers.Dense(len(classes) , activation = 'softmax' , dtype = tf.float32 , name = 'output_Layer')(x)\n",
        "\n",
        "model_2 = tf.keras.Model(inputs , output)\n",
        "\n",
        "model_2.compile(loss = 'sparse_categorical_crossentropy' , \n",
        "              optimizer = 'adam' , \n",
        "              metrics = ['accuracy'])\n"
      ],
      "execution_count": null,
      "outputs": []
    },
    {
      "cell_type": "code",
      "metadata": {
        "colab": {
          "base_uri": "https://localhost:8080/"
        },
        "id": "SfhJhQJexxP_",
        "outputId": "0f3234f5-a334-4fcc-df16-72abf6eb5cac"
      },
      "source": [
        "history_2 = model_2.fit(train_data , \n",
        "                      epochs = 3 , \n",
        "                      steps_per_epoch = len(train_data) , \n",
        "                      validation_data = test_data , \n",
        "                      validation_steps = int(0.15*len(test_data)) ,\n",
        "                      callbacks = [create_tensorboard_callback('tensorflow_hub' , 'Model_2_using_DA') , \n",
        "                                   create_model_checkPoint_callback('/content/sample_data/Model_2_using_DA_model_checkpoint_callback_files/checkpoint.ckpt')])"
      ],
      "execution_count": null,
      "outputs": [
        {
          "output_type": "stream",
          "text": [
            "Saving TensorBoard log files to: tensorflow_hub/Model_2_using_DA/20210801-083637\n",
            "Epoch 1/3\n",
            "2368/2368 [==============================] - 201s 81ms/step - loss: 2.7207 - accuracy: 0.3740 - val_loss: 1.4252 - val_accuracy: 0.6242\n",
            "\n",
            "Epoch 00001: saving model to /content/sample_data/Model_2_using_DA_model_checkpoint_callback_files/checkpoint.ckpt\n",
            "Epoch 2/3\n",
            "2368/2368 [==============================] - 180s 75ms/step - loss: 1.7849 - accuracy: 0.5488 - val_loss: 1.3044 - val_accuracy: 0.6515\n",
            "\n",
            "Epoch 00002: saving model to /content/sample_data/Model_2_using_DA_model_checkpoint_callback_files/checkpoint.ckpt\n",
            "Epoch 3/3\n",
            "2368/2368 [==============================] - 176s 74ms/step - loss: 1.6452 - accuracy: 0.5805 - val_loss: 1.2668 - val_accuracy: 0.6666\n",
            "\n",
            "Epoch 00003: saving model to /content/sample_data/Model_2_using_DA_model_checkpoint_callback_files/checkpoint.ckpt\n"
          ],
          "name": "stdout"
        }
      ]
    },
    {
      "cell_type": "code",
      "metadata": {
        "colab": {
          "base_uri": "https://localhost:8080/"
        },
        "id": "0kuB9zbkxxAd",
        "outputId": "cfe2cba2-a349-42c2-dd2c-9b042fed8182"
      },
      "source": [
        "model_2_using_DA_results = model_2.evaluate(test_data)\n",
        "model_2_using_DA_results"
      ],
      "execution_count": null,
      "outputs": [
        {
          "output_type": "stream",
          "text": [
            "790/790 [==============================] - 49s 62ms/step - loss: 1.2785 - accuracy: 0.6560\n"
          ],
          "name": "stdout"
        },
        {
          "output_type": "execute_result",
          "data": {
            "text/plain": [
              "[1.2784755229949951, 0.6560395956039429]"
            ]
          },
          "metadata": {
            "tags": []
          },
          "execution_count": 38
        }
      ]
    },
    {
      "cell_type": "code",
      "metadata": {
        "colab": {
          "base_uri": "https://localhost:8080/"
        },
        "id": "aS12w37pxwUr",
        "outputId": "196de1e6-25ec-4d4f-88ed-514e4c7ac2f1"
      },
      "source": [
        "model_2.layers"
      ],
      "execution_count": null,
      "outputs": [
        {
          "output_type": "execute_result",
          "data": {
            "text/plain": [
              "[<tensorflow.python.keras.engine.input_layer.InputLayer at 0x7effe6f03bd0>,\n",
              " <tensorflow.python.keras.engine.sequential.Sequential at 0x7efffbc65950>,\n",
              " <tensorflow.python.keras.engine.functional.Functional at 0x7effe8569d90>,\n",
              " <tensorflow.python.keras.layers.pooling.GlobalAveragePooling2D at 0x7effe8345d10>,\n",
              " <tensorflow.python.keras.layers.core.Dense at 0x7effe8039dd0>]"
            ]
          },
          "metadata": {
            "tags": []
          },
          "execution_count": 39
        }
      ]
    },
    {
      "cell_type": "code",
      "metadata": {
        "colab": {
          "base_uri": "https://localhost:8080/"
        },
        "id": "V260mMXy3F_5",
        "outputId": "a4fcd1bd-13f0-454e-8145-3fa2c75313fd"
      },
      "source": [
        "for layer in model_2.layers :\n",
        "  print(f'{layer} -------> {layer.trainable} ')"
      ],
      "execution_count": null,
      "outputs": [
        {
          "output_type": "stream",
          "text": [
            "<tensorflow.python.keras.engine.input_layer.InputLayer object at 0x7effe6f03bd0> -------> True \n",
            "<tensorflow.python.keras.engine.sequential.Sequential object at 0x7efffbc65950> -------> True \n",
            "<tensorflow.python.keras.engine.functional.Functional object at 0x7effe8569d90> -------> False \n",
            "<tensorflow.python.keras.layers.pooling.GlobalAveragePooling2D object at 0x7effe8345d10> -------> True \n",
            "<tensorflow.python.keras.layers.core.Dense object at 0x7effe8039dd0> -------> True \n"
          ],
          "name": "stdout"
        }
      ]
    },
    {
      "cell_type": "code",
      "metadata": {
        "colab": {
          "base_uri": "https://localhost:8080/"
        },
        "id": "u0kwgceN3F-K",
        "outputId": "c0e94d9c-9560-429b-a5df-90d5777f0b36"
      },
      "source": [
        "base_model.layers"
      ],
      "execution_count": null,
      "outputs": [
        {
          "output_type": "execute_result",
          "data": {
            "text/plain": [
              "[<tensorflow.python.keras.engine.input_layer.InputLayer at 0x7effe35f8790>,\n",
              " <tensorflow.python.keras.layers.preprocessing.image_preprocessing.Rescaling at 0x7effe3776c90>,\n",
              " <tensorflow.python.keras.layers.preprocessing.normalization.Normalization at 0x7effe3f28710>,\n",
              " <tensorflow.python.keras.layers.convolutional.ZeroPadding2D at 0x7effe35f8cd0>,\n",
              " <tensorflow.python.keras.layers.convolutional.Conv2D at 0x7effe7911990>,\n",
              " <tensorflow.python.keras.layers.normalization_v2.BatchNormalization at 0x7effe3e5c4d0>,\n",
              " <tensorflow.python.keras.layers.core.Activation at 0x7effe317b4d0>,\n",
              " <tensorflow.python.keras.layers.convolutional.DepthwiseConv2D at 0x7effe355aed0>,\n",
              " <tensorflow.python.keras.layers.normalization_v2.BatchNormalization at 0x7effe35e8390>,\n",
              " <tensorflow.python.keras.layers.core.Activation at 0x7effe355a590>,\n",
              " <tensorflow.python.keras.layers.pooling.GlobalAveragePooling2D at 0x7effe3565250>,\n",
              " <tensorflow.python.keras.layers.core.Reshape at 0x7effe7258250>,\n",
              " <tensorflow.python.keras.layers.convolutional.Conv2D at 0x7effe35785d0>,\n",
              " <tensorflow.python.keras.layers.convolutional.Conv2D at 0x7effe3614e50>,\n",
              " <tensorflow.python.keras.layers.merge.Multiply at 0x7effe35820d0>,\n",
              " <tensorflow.python.keras.layers.convolutional.Conv2D at 0x7effe3582890>,\n",
              " <tensorflow.python.keras.layers.normalization_v2.BatchNormalization at 0x7effe3592310>,\n",
              " <tensorflow.python.keras.layers.convolutional.Conv2D at 0x7effe3560650>,\n",
              " <tensorflow.python.keras.layers.normalization_v2.BatchNormalization at 0x7effe3594c10>,\n",
              " <tensorflow.python.keras.layers.core.Activation at 0x7effe34aba50>,\n",
              " <tensorflow.python.keras.layers.convolutional.ZeroPadding2D at 0x7effe349fb10>,\n",
              " <tensorflow.python.keras.layers.convolutional.DepthwiseConv2D at 0x7effe349c550>,\n",
              " <tensorflow.python.keras.layers.normalization_v2.BatchNormalization at 0x7effe34c0250>,\n",
              " <tensorflow.python.keras.layers.core.Activation at 0x7effe34c0650>,\n",
              " <tensorflow.python.keras.layers.pooling.GlobalAveragePooling2D at 0x7effe349fad0>,\n",
              " <tensorflow.python.keras.layers.core.Reshape at 0x7effe34c7310>,\n",
              " <tensorflow.python.keras.layers.convolutional.Conv2D at 0x7effe34a5e90>,\n",
              " <tensorflow.python.keras.layers.convolutional.Conv2D at 0x7effe34c4d50>,\n",
              " <tensorflow.python.keras.layers.merge.Multiply at 0x7effe34b4a50>,\n",
              " <tensorflow.python.keras.layers.convolutional.Conv2D at 0x7effe33ecd90>,\n",
              " <tensorflow.python.keras.layers.normalization_v2.BatchNormalization at 0x7effe33ec690>,\n",
              " <tensorflow.python.keras.layers.convolutional.Conv2D at 0x7effe34b4510>,\n",
              " <tensorflow.python.keras.layers.normalization_v2.BatchNormalization at 0x7effe3401c50>,\n",
              " <tensorflow.python.keras.layers.core.Activation at 0x7effe33febd0>,\n",
              " <tensorflow.python.keras.layers.convolutional.DepthwiseConv2D at 0x7effe33f99d0>,\n",
              " <tensorflow.python.keras.layers.normalization_v2.BatchNormalization at 0x7effe34c7f90>,\n",
              " <tensorflow.python.keras.layers.core.Activation at 0x7effe33f24d0>,\n",
              " <tensorflow.python.keras.layers.pooling.GlobalAveragePooling2D at 0x7effe3592110>,\n",
              " <tensorflow.python.keras.layers.core.Reshape at 0x7effe34cecd0>,\n",
              " <tensorflow.python.keras.layers.convolutional.Conv2D at 0x7effe355a110>,\n",
              " <tensorflow.python.keras.layers.convolutional.Conv2D at 0x7effe3614f90>,\n",
              " <tensorflow.python.keras.layers.merge.Multiply at 0x7effe3409350>,\n",
              " <tensorflow.python.keras.layers.convolutional.Conv2D at 0x7effe3409a90>,\n",
              " <tensorflow.python.keras.layers.normalization_v2.BatchNormalization at 0x7effe3409c90>,\n",
              " <tensorflow.python.keras.layers.core.Dropout at 0x7effe3411810>,\n",
              " <tensorflow.python.keras.layers.merge.Add at 0x7effe335cc10>,\n",
              " <tensorflow.python.keras.layers.convolutional.Conv2D at 0x7effe335c950>,\n",
              " <tensorflow.python.keras.layers.normalization_v2.BatchNormalization at 0x7effe335ca90>,\n",
              " <tensorflow.python.keras.layers.core.Activation at 0x7effe3415ed0>,\n",
              " <tensorflow.python.keras.layers.convolutional.ZeroPadding2D at 0x7effe34150d0>,\n",
              " <tensorflow.python.keras.layers.convolutional.DepthwiseConv2D at 0x7effe33611d0>,\n",
              " <tensorflow.python.keras.layers.normalization_v2.BatchNormalization at 0x7effe337fa90>,\n",
              " <tensorflow.python.keras.layers.core.Activation at 0x7effe3363e50>,\n",
              " <tensorflow.python.keras.layers.pooling.GlobalAveragePooling2D at 0x7effe3363a10>,\n",
              " <tensorflow.python.keras.layers.core.Reshape at 0x7effe3571d10>,\n",
              " <tensorflow.python.keras.layers.convolutional.Conv2D at 0x7effe33619d0>,\n",
              " <tensorflow.python.keras.layers.convolutional.Conv2D at 0x7effe3376750>,\n",
              " <tensorflow.python.keras.layers.merge.Multiply at 0x7effe3363fd0>,\n",
              " <tensorflow.python.keras.layers.convolutional.Conv2D at 0x7effe32adc90>,\n",
              " <tensorflow.python.keras.layers.normalization_v2.BatchNormalization at 0x7effe32ad7d0>,\n",
              " <tensorflow.python.keras.layers.convolutional.Conv2D at 0x7effe3376b90>,\n",
              " <tensorflow.python.keras.layers.normalization_v2.BatchNormalization at 0x7effe32c3c90>,\n",
              " <tensorflow.python.keras.layers.core.Activation at 0x7effe32c3790>,\n",
              " <tensorflow.python.keras.layers.convolutional.DepthwiseConv2D at 0x7effe32b8750>,\n",
              " <tensorflow.python.keras.layers.normalization_v2.BatchNormalization at 0x7effe32c9890>,\n",
              " <tensorflow.python.keras.layers.core.Activation at 0x7effe32d7dd0>,\n",
              " <tensorflow.python.keras.layers.pooling.GlobalAveragePooling2D at 0x7effe32d7210>,\n",
              " <tensorflow.python.keras.layers.core.Reshape at 0x7effe32cc890>,\n",
              " <tensorflow.python.keras.layers.convolutional.Conv2D at 0x7effe31f8790>,\n",
              " <tensorflow.python.keras.layers.convolutional.Conv2D at 0x7effe32bed10>,\n",
              " <tensorflow.python.keras.layers.merge.Multiply at 0x7effe32cbfd0>,\n",
              " <tensorflow.python.keras.layers.convolutional.Conv2D at 0x7effe31e5e50>,\n",
              " <tensorflow.python.keras.layers.normalization_v2.BatchNormalization at 0x7effe320abd0>,\n",
              " <tensorflow.python.keras.layers.core.Dropout at 0x7effe3214810>,\n",
              " <tensorflow.python.keras.layers.merge.Add at 0x7effe3214450>,\n",
              " <tensorflow.python.keras.layers.convolutional.Conv2D at 0x7effe30a3110>,\n",
              " <tensorflow.python.keras.layers.normalization_v2.BatchNormalization at 0x7effe30a3790>,\n",
              " <tensorflow.python.keras.layers.core.Activation at 0x7effe32103d0>,\n",
              " <tensorflow.python.keras.layers.convolutional.ZeroPadding2D at 0x7effe31f1350>,\n",
              " <tensorflow.python.keras.layers.convolutional.DepthwiseConv2D at 0x7effe32b8790>,\n",
              " <tensorflow.python.keras.layers.normalization_v2.BatchNormalization at 0x7effe32d7190>,\n",
              " <tensorflow.python.keras.layers.core.Activation at 0x7effe31f8f50>,\n",
              " <tensorflow.python.keras.layers.pooling.GlobalAveragePooling2D at 0x7effe320db10>,\n",
              " <tensorflow.python.keras.layers.core.Reshape at 0x7effe3374bd0>,\n",
              " <tensorflow.python.keras.layers.convolutional.Conv2D at 0x7effe338d350>,\n",
              " <tensorflow.python.keras.layers.convolutional.Conv2D at 0x7effe32ad3d0>,\n",
              " <tensorflow.python.keras.layers.merge.Multiply at 0x7effe32ade50>,\n",
              " <tensorflow.python.keras.layers.convolutional.Conv2D at 0x7effe3376bd0>,\n",
              " <tensorflow.python.keras.layers.normalization_v2.BatchNormalization at 0x7effe3396890>,\n",
              " <tensorflow.python.keras.layers.convolutional.Conv2D at 0x7effe35780d0>,\n",
              " <tensorflow.python.keras.layers.normalization_v2.BatchNormalization at 0x7effe30ba9d0>,\n",
              " <tensorflow.python.keras.layers.core.Activation at 0x7effe30b6b50>,\n",
              " <tensorflow.python.keras.layers.convolutional.DepthwiseConv2D at 0x7effe30c66d0>,\n",
              " <tensorflow.python.keras.layers.normalization_v2.BatchNormalization at 0x7effe30d8250>,\n",
              " <tensorflow.python.keras.layers.core.Activation at 0x7effe30d8110>,\n",
              " <tensorflow.python.keras.layers.pooling.GlobalAveragePooling2D at 0x7effe30d8350>,\n",
              " <tensorflow.python.keras.layers.core.Reshape at 0x7effe30b2e90>,\n",
              " <tensorflow.python.keras.layers.convolutional.Conv2D at 0x7effe2fe4290>,\n",
              " <tensorflow.python.keras.layers.convolutional.Conv2D at 0x7effe2fe4810>,\n",
              " <tensorflow.python.keras.layers.merge.Multiply at 0x7effe30b2490>,\n",
              " <tensorflow.python.keras.layers.convolutional.Conv2D at 0x7effe3008510>,\n",
              " <tensorflow.python.keras.layers.normalization_v2.BatchNormalization at 0x7effe30037d0>,\n",
              " <tensorflow.python.keras.layers.core.Dropout at 0x7effe300e490>,\n",
              " <tensorflow.python.keras.layers.merge.Add at 0x7effe300e690>,\n",
              " <tensorflow.python.keras.layers.convolutional.Conv2D at 0x7effe3210950>,\n",
              " <tensorflow.python.keras.layers.normalization_v2.BatchNormalization at 0x7effe3003f10>,\n",
              " <tensorflow.python.keras.layers.core.Activation at 0x7effe300e810>,\n",
              " <tensorflow.python.keras.layers.convolutional.DepthwiseConv2D at 0x7effe30c6d10>,\n",
              " <tensorflow.python.keras.layers.normalization_v2.BatchNormalization at 0x7effe2f70cd0>,\n",
              " <tensorflow.python.keras.layers.core.Activation at 0x7effe300e350>,\n",
              " <tensorflow.python.keras.layers.pooling.GlobalAveragePooling2D at 0x7effe2f5b850>,\n",
              " <tensorflow.python.keras.layers.core.Reshape at 0x7effe2fe4a90>,\n",
              " <tensorflow.python.keras.layers.convolutional.Conv2D at 0x7effe2f77290>,\n",
              " <tensorflow.python.keras.layers.convolutional.Conv2D at 0x7effe3016f90>,\n",
              " <tensorflow.python.keras.layers.merge.Multiply at 0x7effe3013650>,\n",
              " <tensorflow.python.keras.layers.convolutional.Conv2D at 0x7effe3003110>,\n",
              " <tensorflow.python.keras.layers.normalization_v2.BatchNormalization at 0x7effe2f7c350>,\n",
              " <tensorflow.python.keras.layers.core.Dropout at 0x7effe2ea56d0>,\n",
              " <tensorflow.python.keras.layers.merge.Add at 0x7effe2eb0290>,\n",
              " <tensorflow.python.keras.layers.convolutional.Conv2D at 0x7effe2f77d90>,\n",
              " <tensorflow.python.keras.layers.normalization_v2.BatchNormalization at 0x7effe2eb0190>,\n",
              " <tensorflow.python.keras.layers.core.Activation at 0x7effe3013110>,\n",
              " <tensorflow.python.keras.layers.convolutional.DepthwiseConv2D at 0x7effe2f62250>,\n",
              " <tensorflow.python.keras.layers.normalization_v2.BatchNormalization at 0x7effe2f8d2d0>,\n",
              " <tensorflow.python.keras.layers.core.Activation at 0x7effe30cc550>,\n",
              " <tensorflow.python.keras.layers.pooling.GlobalAveragePooling2D at 0x7effe320af50>,\n",
              " <tensorflow.python.keras.layers.core.Reshape at 0x7effe2f84910>,\n",
              " <tensorflow.python.keras.layers.convolutional.Conv2D at 0x7effe338d290>,\n",
              " <tensorflow.python.keras.layers.convolutional.Conv2D at 0x7effe2ebd0d0>,\n",
              " <tensorflow.python.keras.layers.merge.Multiply at 0x7effe309e0d0>,\n",
              " <tensorflow.python.keras.layers.convolutional.Conv2D at 0x7effe2ebdc90>,\n",
              " <tensorflow.python.keras.layers.normalization_v2.BatchNormalization at 0x7effe2ebfc10>,\n",
              " <tensorflow.python.keras.layers.convolutional.Conv2D at 0x7effe30c6310>,\n",
              " <tensorflow.python.keras.layers.normalization_v2.BatchNormalization at 0x7effe2ec9590>,\n",
              " <tensorflow.python.keras.layers.core.Activation at 0x7effe2eb29d0>,\n",
              " <tensorflow.python.keras.layers.convolutional.DepthwiseConv2D at 0x7effe2d5e210>,\n",
              " <tensorflow.python.keras.layers.normalization_v2.BatchNormalization at 0x7effe2d5e710>,\n",
              " <tensorflow.python.keras.layers.core.Activation at 0x7effe2d5a750>,\n",
              " <tensorflow.python.keras.layers.pooling.GlobalAveragePooling2D at 0x7effe2ecf310>,\n",
              " <tensorflow.python.keras.layers.core.Reshape at 0x7effe30c6410>,\n",
              " <tensorflow.python.keras.layers.convolutional.Conv2D at 0x7effe2d74c10>,\n",
              " <tensorflow.python.keras.layers.convolutional.Conv2D at 0x7effe2d94990>,\n",
              " <tensorflow.python.keras.layers.merge.Multiply at 0x7effe2d79110>,\n",
              " <tensorflow.python.keras.layers.convolutional.Conv2D at 0x7effe2d90b10>,\n",
              " <tensorflow.python.keras.layers.normalization_v2.BatchNormalization at 0x7effe2ec9050>,\n",
              " <tensorflow.python.keras.layers.core.Dropout at 0x7effe2d94b10>,\n",
              " <tensorflow.python.keras.layers.merge.Add at 0x7effe2ca7590>,\n",
              " <tensorflow.python.keras.layers.convolutional.Conv2D at 0x7effe2cb3f50>,\n",
              " <tensorflow.python.keras.layers.normalization_v2.BatchNormalization at 0x7effe2cbbed0>,\n",
              " <tensorflow.python.keras.layers.core.Activation at 0x7effe2cbbd50>,\n",
              " <tensorflow.python.keras.layers.convolutional.DepthwiseConv2D at 0x7effe2cb32d0>,\n",
              " <tensorflow.python.keras.layers.normalization_v2.BatchNormalization at 0x7effe2d74910>,\n",
              " <tensorflow.python.keras.layers.core.Activation at 0x7effe2cc11d0>,\n",
              " <tensorflow.python.keras.layers.pooling.GlobalAveragePooling2D at 0x7effe2cc1590>,\n",
              " <tensorflow.python.keras.layers.core.Reshape at 0x7effe2d7f790>,\n",
              " <tensorflow.python.keras.layers.convolutional.Conv2D at 0x7effe8765ad0>,\n",
              " <tensorflow.python.keras.layers.convolutional.Conv2D at 0x7effe875d910>,\n",
              " <tensorflow.python.keras.layers.merge.Multiply at 0x7effe875d8d0>,\n",
              " <tensorflow.python.keras.layers.convolutional.Conv2D at 0x7effe8777d10>,\n",
              " <tensorflow.python.keras.layers.normalization_v2.BatchNormalization at 0x7effe8777ad0>,\n",
              " <tensorflow.python.keras.layers.core.Dropout at 0x7effe2cd71d0>,\n",
              " <tensorflow.python.keras.layers.merge.Add at 0x7effe875d510>,\n",
              " <tensorflow.python.keras.layers.convolutional.Conv2D at 0x7effe87776d0>,\n",
              " <tensorflow.python.keras.layers.normalization_v2.BatchNormalization at 0x7effe8774890>,\n",
              " <tensorflow.python.keras.layers.core.Activation at 0x7effe2ca3bd0>,\n",
              " <tensorflow.python.keras.layers.convolutional.ZeroPadding2D at 0x7effe2eb2b50>,\n",
              " <tensorflow.python.keras.layers.convolutional.DepthwiseConv2D at 0x7effe3363d90>,\n",
              " <tensorflow.python.keras.layers.normalization_v2.BatchNormalization at 0x7effe3016dd0>,\n",
              " <tensorflow.python.keras.layers.core.Activation at 0x7effe30ae490>,\n",
              " <tensorflow.python.keras.layers.pooling.GlobalAveragePooling2D at 0x7effe2d744d0>,\n",
              " <tensorflow.python.keras.layers.core.Reshape at 0x7effe2f5b250>,\n",
              " <tensorflow.python.keras.layers.convolutional.Conv2D at 0x7effe30cf8d0>,\n",
              " <tensorflow.python.keras.layers.convolutional.Conv2D at 0x7effe87819d0>,\n",
              " <tensorflow.python.keras.layers.merge.Multiply at 0x7effe86d9b50>,\n",
              " <tensorflow.python.keras.layers.convolutional.Conv2D at 0x7effe878c850>,\n",
              " <tensorflow.python.keras.layers.normalization_v2.BatchNormalization at 0x7effe30b6310>,\n",
              " <tensorflow.python.keras.layers.convolutional.Conv2D at 0x7effe2cd7110>,\n",
              " <tensorflow.python.keras.layers.normalization_v2.BatchNormalization at 0x7effe86e8e90>,\n",
              " <tensorflow.python.keras.layers.core.Activation at 0x7effe86e0e10>,\n",
              " <tensorflow.python.keras.layers.convolutional.DepthwiseConv2D at 0x7effe86f8090>,\n",
              " <tensorflow.python.keras.layers.normalization_v2.BatchNormalization at 0x7effe3363850>,\n",
              " <tensorflow.python.keras.layers.core.Activation at 0x7effe86fe5d0>,\n",
              " <tensorflow.python.keras.layers.pooling.GlobalAveragePooling2D at 0x7effe870af50>,\n",
              " <tensorflow.python.keras.layers.core.Reshape at 0x7effe870df50>,\n",
              " <tensorflow.python.keras.layers.convolutional.Conv2D at 0x7effe86f8150>,\n",
              " <tensorflow.python.keras.layers.convolutional.Conv2D at 0x7effe870a6d0>,\n",
              " <tensorflow.python.keras.layers.merge.Multiply at 0x7effe86e0750>,\n",
              " <tensorflow.python.keras.layers.convolutional.Conv2D at 0x7effe870f410>,\n",
              " <tensorflow.python.keras.layers.normalization_v2.BatchNormalization at 0x7effe86a8810>,\n",
              " <tensorflow.python.keras.layers.core.Dropout at 0x7effe86b5050>,\n",
              " <tensorflow.python.keras.layers.merge.Add at 0x7effe86b5090>,\n",
              " <tensorflow.python.keras.layers.convolutional.Conv2D at 0x7effe86b5e50>,\n",
              " <tensorflow.python.keras.layers.normalization_v2.BatchNormalization at 0x7effe86b03d0>,\n",
              " <tensorflow.python.keras.layers.core.Activation at 0x7effe86b5850>,\n",
              " <tensorflow.python.keras.layers.convolutional.DepthwiseConv2D at 0x7effe86bda90>,\n",
              " <tensorflow.python.keras.layers.normalization_v2.BatchNormalization at 0x7effe86d8450>,\n",
              " <tensorflow.python.keras.layers.core.Activation at 0x7effe86c69d0>,\n",
              " <tensorflow.python.keras.layers.pooling.GlobalAveragePooling2D at 0x7effe86b5e10>,\n",
              " <tensorflow.python.keras.layers.core.Reshape at 0x7effe8715790>,\n",
              " <tensorflow.python.keras.layers.convolutional.Conv2D at 0x7effe861bc90>,\n",
              " <tensorflow.python.keras.layers.convolutional.Conv2D at 0x7effe8619950>,\n",
              " <tensorflow.python.keras.layers.merge.Multiply at 0x7effe8647650>,\n",
              " <tensorflow.python.keras.layers.convolutional.Conv2D at 0x7effe86b5390>,\n",
              " <tensorflow.python.keras.layers.normalization_v2.BatchNormalization at 0x7effe86c34d0>,\n",
              " <tensorflow.python.keras.layers.core.Dropout at 0x7effe86f4950>,\n",
              " <tensorflow.python.keras.layers.merge.Add at 0x7effe8715fd0>,\n",
              " <tensorflow.python.keras.layers.convolutional.Conv2D at 0x7effe86c3250>,\n",
              " <tensorflow.python.keras.layers.normalization_v2.BatchNormalization at 0x7effe870f710>,\n",
              " <tensorflow.python.keras.layers.core.Activation at 0x7effe2ec91d0>,\n",
              " <tensorflow.python.keras.layers.convolutional.DepthwiseConv2D at 0x7effe3361110>,\n",
              " <tensorflow.python.keras.layers.normalization_v2.BatchNormalization at 0x7effe8781e90>,\n",
              " <tensorflow.python.keras.layers.core.Activation at 0x7effe2fef450>,\n",
              " <tensorflow.python.keras.layers.pooling.GlobalAveragePooling2D at 0x7effe86f4ad0>,\n",
              " <tensorflow.python.keras.layers.core.Reshape at 0x7effe8633310>,\n",
              " <tensorflow.python.keras.layers.convolutional.Conv2D at 0x7effe859b4d0>,\n",
              " <tensorflow.python.keras.layers.convolutional.Conv2D at 0x7effe85ae450>,\n",
              " <tensorflow.python.keras.layers.merge.Multiply at 0x7effe8658290>,\n",
              " <tensorflow.python.keras.layers.convolutional.Conv2D at 0x7effe8647c50>,\n",
              " <tensorflow.python.keras.layers.normalization_v2.BatchNormalization at 0x7effe85a1b10>,\n",
              " <tensorflow.python.keras.layers.core.Dropout at 0x7effe85bd450>,\n",
              " <tensorflow.python.keras.layers.merge.Add at 0x7effe85c3a90>,\n",
              " <tensorflow.python.keras.layers.convolutional.Conv2D at 0x7effe85c3a50>,\n",
              " <tensorflow.python.keras.layers.normalization_v2.BatchNormalization at 0x7effe85d5a50>,\n",
              " <tensorflow.python.keras.layers.core.Activation at 0x7effe85b8d90>,\n",
              " <tensorflow.python.keras.layers.convolutional.DepthwiseConv2D at 0x7effe85ce7d0>,\n",
              " <tensorflow.python.keras.layers.normalization_v2.BatchNormalization at 0x7effe85bda90>,\n",
              " <tensorflow.python.keras.layers.core.Activation at 0x7effe8569550>,\n",
              " <tensorflow.python.keras.layers.pooling.GlobalAveragePooling2D at 0x7effe85ce850>,\n",
              " <tensorflow.python.keras.layers.core.Reshape at 0x7effe8653fd0>,\n",
              " <tensorflow.python.keras.layers.convolutional.Conv2D at 0x7effe857d610>,\n",
              " <tensorflow.python.keras.layers.convolutional.Conv2D at 0x7effe8576550>,\n",
              " <tensorflow.python.keras.layers.merge.Multiply at 0x7effe8569990>,\n",
              " <tensorflow.python.keras.layers.convolutional.Conv2D at 0x7effe8576990>,\n",
              " <tensorflow.python.keras.layers.normalization_v2.BatchNormalization at 0x7effe8592790>,\n",
              " <tensorflow.python.keras.layers.convolutional.Conv2D at 0x7effe8592910>,\n",
              " <tensorflow.python.keras.layers.normalization_v2.BatchNormalization at 0x7effe84ee110>,\n",
              " <tensorflow.python.keras.layers.core.Activation at 0x7effe8597a90>]"
            ]
          },
          "metadata": {
            "tags": []
          },
          "execution_count": 41
        }
      ]
    },
    {
      "cell_type": "code",
      "metadata": {
        "colab": {
          "base_uri": "https://localhost:8080/"
        },
        "id": "zlYc5doh3F8T",
        "outputId": "401e714f-b822-4f5e-9f8f-fbdeb7ce2661"
      },
      "source": [
        "for i , layer in enumerate(base_model.layers):\n",
        "  print(f'{i} {layer.name} -----------> {layer.trainable} ')"
      ],
      "execution_count": null,
      "outputs": [
        {
          "output_type": "stream",
          "text": [
            "0 input_2 -----------> False \n",
            "1 rescaling_1 -----------> False \n",
            "2 normalization_1 -----------> False \n",
            "3 stem_conv_pad -----------> False \n",
            "4 stem_conv -----------> False \n",
            "5 stem_bn -----------> False \n",
            "6 stem_activation -----------> False \n",
            "7 block1a_dwconv -----------> False \n",
            "8 block1a_bn -----------> False \n",
            "9 block1a_activation -----------> False \n",
            "10 block1a_se_squeeze -----------> False \n",
            "11 block1a_se_reshape -----------> False \n",
            "12 block1a_se_reduce -----------> False \n",
            "13 block1a_se_expand -----------> False \n",
            "14 block1a_se_excite -----------> False \n",
            "15 block1a_project_conv -----------> False \n",
            "16 block1a_project_bn -----------> False \n",
            "17 block2a_expand_conv -----------> False \n",
            "18 block2a_expand_bn -----------> False \n",
            "19 block2a_expand_activation -----------> False \n",
            "20 block2a_dwconv_pad -----------> False \n",
            "21 block2a_dwconv -----------> False \n",
            "22 block2a_bn -----------> False \n",
            "23 block2a_activation -----------> False \n",
            "24 block2a_se_squeeze -----------> False \n",
            "25 block2a_se_reshape -----------> False \n",
            "26 block2a_se_reduce -----------> False \n",
            "27 block2a_se_expand -----------> False \n",
            "28 block2a_se_excite -----------> False \n",
            "29 block2a_project_conv -----------> False \n",
            "30 block2a_project_bn -----------> False \n",
            "31 block2b_expand_conv -----------> False \n",
            "32 block2b_expand_bn -----------> False \n",
            "33 block2b_expand_activation -----------> False \n",
            "34 block2b_dwconv -----------> False \n",
            "35 block2b_bn -----------> False \n",
            "36 block2b_activation -----------> False \n",
            "37 block2b_se_squeeze -----------> False \n",
            "38 block2b_se_reshape -----------> False \n",
            "39 block2b_se_reduce -----------> False \n",
            "40 block2b_se_expand -----------> False \n",
            "41 block2b_se_excite -----------> False \n",
            "42 block2b_project_conv -----------> False \n",
            "43 block2b_project_bn -----------> False \n",
            "44 block2b_drop -----------> False \n",
            "45 block2b_add -----------> False \n",
            "46 block3a_expand_conv -----------> False \n",
            "47 block3a_expand_bn -----------> False \n",
            "48 block3a_expand_activation -----------> False \n",
            "49 block3a_dwconv_pad -----------> False \n",
            "50 block3a_dwconv -----------> False \n",
            "51 block3a_bn -----------> False \n",
            "52 block3a_activation -----------> False \n",
            "53 block3a_se_squeeze -----------> False \n",
            "54 block3a_se_reshape -----------> False \n",
            "55 block3a_se_reduce -----------> False \n",
            "56 block3a_se_expand -----------> False \n",
            "57 block3a_se_excite -----------> False \n",
            "58 block3a_project_conv -----------> False \n",
            "59 block3a_project_bn -----------> False \n",
            "60 block3b_expand_conv -----------> False \n",
            "61 block3b_expand_bn -----------> False \n",
            "62 block3b_expand_activation -----------> False \n",
            "63 block3b_dwconv -----------> False \n",
            "64 block3b_bn -----------> False \n",
            "65 block3b_activation -----------> False \n",
            "66 block3b_se_squeeze -----------> False \n",
            "67 block3b_se_reshape -----------> False \n",
            "68 block3b_se_reduce -----------> False \n",
            "69 block3b_se_expand -----------> False \n",
            "70 block3b_se_excite -----------> False \n",
            "71 block3b_project_conv -----------> False \n",
            "72 block3b_project_bn -----------> False \n",
            "73 block3b_drop -----------> False \n",
            "74 block3b_add -----------> False \n",
            "75 block4a_expand_conv -----------> False \n",
            "76 block4a_expand_bn -----------> False \n",
            "77 block4a_expand_activation -----------> False \n",
            "78 block4a_dwconv_pad -----------> False \n",
            "79 block4a_dwconv -----------> False \n",
            "80 block4a_bn -----------> False \n",
            "81 block4a_activation -----------> False \n",
            "82 block4a_se_squeeze -----------> False \n",
            "83 block4a_se_reshape -----------> False \n",
            "84 block4a_se_reduce -----------> False \n",
            "85 block4a_se_expand -----------> False \n",
            "86 block4a_se_excite -----------> False \n",
            "87 block4a_project_conv -----------> False \n",
            "88 block4a_project_bn -----------> False \n",
            "89 block4b_expand_conv -----------> False \n",
            "90 block4b_expand_bn -----------> False \n",
            "91 block4b_expand_activation -----------> False \n",
            "92 block4b_dwconv -----------> False \n",
            "93 block4b_bn -----------> False \n",
            "94 block4b_activation -----------> False \n",
            "95 block4b_se_squeeze -----------> False \n",
            "96 block4b_se_reshape -----------> False \n",
            "97 block4b_se_reduce -----------> False \n",
            "98 block4b_se_expand -----------> False \n",
            "99 block4b_se_excite -----------> False \n",
            "100 block4b_project_conv -----------> False \n",
            "101 block4b_project_bn -----------> False \n",
            "102 block4b_drop -----------> False \n",
            "103 block4b_add -----------> False \n",
            "104 block4c_expand_conv -----------> False \n",
            "105 block4c_expand_bn -----------> False \n",
            "106 block4c_expand_activation -----------> False \n",
            "107 block4c_dwconv -----------> False \n",
            "108 block4c_bn -----------> False \n",
            "109 block4c_activation -----------> False \n",
            "110 block4c_se_squeeze -----------> False \n",
            "111 block4c_se_reshape -----------> False \n",
            "112 block4c_se_reduce -----------> False \n",
            "113 block4c_se_expand -----------> False \n",
            "114 block4c_se_excite -----------> False \n",
            "115 block4c_project_conv -----------> False \n",
            "116 block4c_project_bn -----------> False \n",
            "117 block4c_drop -----------> False \n",
            "118 block4c_add -----------> False \n",
            "119 block5a_expand_conv -----------> False \n",
            "120 block5a_expand_bn -----------> False \n",
            "121 block5a_expand_activation -----------> False \n",
            "122 block5a_dwconv -----------> False \n",
            "123 block5a_bn -----------> False \n",
            "124 block5a_activation -----------> False \n",
            "125 block5a_se_squeeze -----------> False \n",
            "126 block5a_se_reshape -----------> False \n",
            "127 block5a_se_reduce -----------> False \n",
            "128 block5a_se_expand -----------> False \n",
            "129 block5a_se_excite -----------> False \n",
            "130 block5a_project_conv -----------> False \n",
            "131 block5a_project_bn -----------> False \n",
            "132 block5b_expand_conv -----------> False \n",
            "133 block5b_expand_bn -----------> False \n",
            "134 block5b_expand_activation -----------> False \n",
            "135 block5b_dwconv -----------> False \n",
            "136 block5b_bn -----------> False \n",
            "137 block5b_activation -----------> False \n",
            "138 block5b_se_squeeze -----------> False \n",
            "139 block5b_se_reshape -----------> False \n",
            "140 block5b_se_reduce -----------> False \n",
            "141 block5b_se_expand -----------> False \n",
            "142 block5b_se_excite -----------> False \n",
            "143 block5b_project_conv -----------> False \n",
            "144 block5b_project_bn -----------> False \n",
            "145 block5b_drop -----------> False \n",
            "146 block5b_add -----------> False \n",
            "147 block5c_expand_conv -----------> False \n",
            "148 block5c_expand_bn -----------> False \n",
            "149 block5c_expand_activation -----------> False \n",
            "150 block5c_dwconv -----------> False \n",
            "151 block5c_bn -----------> False \n",
            "152 block5c_activation -----------> False \n",
            "153 block5c_se_squeeze -----------> False \n",
            "154 block5c_se_reshape -----------> False \n",
            "155 block5c_se_reduce -----------> False \n",
            "156 block5c_se_expand -----------> False \n",
            "157 block5c_se_excite -----------> False \n",
            "158 block5c_project_conv -----------> False \n",
            "159 block5c_project_bn -----------> False \n",
            "160 block5c_drop -----------> False \n",
            "161 block5c_add -----------> False \n",
            "162 block6a_expand_conv -----------> False \n",
            "163 block6a_expand_bn -----------> False \n",
            "164 block6a_expand_activation -----------> False \n",
            "165 block6a_dwconv_pad -----------> False \n",
            "166 block6a_dwconv -----------> False \n",
            "167 block6a_bn -----------> False \n",
            "168 block6a_activation -----------> False \n",
            "169 block6a_se_squeeze -----------> False \n",
            "170 block6a_se_reshape -----------> False \n",
            "171 block6a_se_reduce -----------> False \n",
            "172 block6a_se_expand -----------> False \n",
            "173 block6a_se_excite -----------> False \n",
            "174 block6a_project_conv -----------> False \n",
            "175 block6a_project_bn -----------> False \n",
            "176 block6b_expand_conv -----------> False \n",
            "177 block6b_expand_bn -----------> False \n",
            "178 block6b_expand_activation -----------> False \n",
            "179 block6b_dwconv -----------> False \n",
            "180 block6b_bn -----------> False \n",
            "181 block6b_activation -----------> False \n",
            "182 block6b_se_squeeze -----------> False \n",
            "183 block6b_se_reshape -----------> False \n",
            "184 block6b_se_reduce -----------> False \n",
            "185 block6b_se_expand -----------> False \n",
            "186 block6b_se_excite -----------> False \n",
            "187 block6b_project_conv -----------> False \n",
            "188 block6b_project_bn -----------> False \n",
            "189 block6b_drop -----------> False \n",
            "190 block6b_add -----------> False \n",
            "191 block6c_expand_conv -----------> False \n",
            "192 block6c_expand_bn -----------> False \n",
            "193 block6c_expand_activation -----------> False \n",
            "194 block6c_dwconv -----------> False \n",
            "195 block6c_bn -----------> False \n",
            "196 block6c_activation -----------> False \n",
            "197 block6c_se_squeeze -----------> False \n",
            "198 block6c_se_reshape -----------> False \n",
            "199 block6c_se_reduce -----------> False \n",
            "200 block6c_se_expand -----------> False \n",
            "201 block6c_se_excite -----------> False \n",
            "202 block6c_project_conv -----------> False \n",
            "203 block6c_project_bn -----------> False \n",
            "204 block6c_drop -----------> False \n",
            "205 block6c_add -----------> False \n",
            "206 block6d_expand_conv -----------> False \n",
            "207 block6d_expand_bn -----------> False \n",
            "208 block6d_expand_activation -----------> False \n",
            "209 block6d_dwconv -----------> False \n",
            "210 block6d_bn -----------> False \n",
            "211 block6d_activation -----------> False \n",
            "212 block6d_se_squeeze -----------> False \n",
            "213 block6d_se_reshape -----------> False \n",
            "214 block6d_se_reduce -----------> False \n",
            "215 block6d_se_expand -----------> False \n",
            "216 block6d_se_excite -----------> False \n",
            "217 block6d_project_conv -----------> False \n",
            "218 block6d_project_bn -----------> False \n",
            "219 block6d_drop -----------> False \n",
            "220 block6d_add -----------> False \n",
            "221 block7a_expand_conv -----------> False \n",
            "222 block7a_expand_bn -----------> False \n",
            "223 block7a_expand_activation -----------> False \n",
            "224 block7a_dwconv -----------> False \n",
            "225 block7a_bn -----------> False \n",
            "226 block7a_activation -----------> False \n",
            "227 block7a_se_squeeze -----------> False \n",
            "228 block7a_se_reshape -----------> False \n",
            "229 block7a_se_reduce -----------> False \n",
            "230 block7a_se_expand -----------> False \n",
            "231 block7a_se_excite -----------> False \n",
            "232 block7a_project_conv -----------> False \n",
            "233 block7a_project_bn -----------> False \n",
            "234 top_conv -----------> False \n",
            "235 top_bn -----------> False \n",
            "236 top_activation -----------> False \n"
          ],
          "name": "stdout"
        }
      ]
    },
    {
      "cell_type": "code",
      "metadata": {
        "id": "lF4l-7BD3F6d"
      },
      "source": [
        "base_model.trainable = True\n",
        "for layer in base_model.layers[:-10] :\n",
        "  layer.trainable = False"
      ],
      "execution_count": null,
      "outputs": []
    },
    {
      "cell_type": "code",
      "metadata": {
        "colab": {
          "base_uri": "https://localhost:8080/"
        },
        "id": "YIWNoNg33F2R",
        "outputId": "58a0d0a2-1312-48e8-9171-5d0fb1f1ed92"
      },
      "source": [
        "for i , layer in enumerate(base_model.layers) :\n",
        "  print(f'{i} {layer.name} ---------> {layer.trainable} ')"
      ],
      "execution_count": null,
      "outputs": [
        {
          "output_type": "stream",
          "text": [
            "0 input_2 ---------> False \n",
            "1 rescaling_1 ---------> False \n",
            "2 normalization_1 ---------> False \n",
            "3 stem_conv_pad ---------> False \n",
            "4 stem_conv ---------> False \n",
            "5 stem_bn ---------> False \n",
            "6 stem_activation ---------> False \n",
            "7 block1a_dwconv ---------> False \n",
            "8 block1a_bn ---------> False \n",
            "9 block1a_activation ---------> False \n",
            "10 block1a_se_squeeze ---------> False \n",
            "11 block1a_se_reshape ---------> False \n",
            "12 block1a_se_reduce ---------> False \n",
            "13 block1a_se_expand ---------> False \n",
            "14 block1a_se_excite ---------> False \n",
            "15 block1a_project_conv ---------> False \n",
            "16 block1a_project_bn ---------> False \n",
            "17 block2a_expand_conv ---------> False \n",
            "18 block2a_expand_bn ---------> False \n",
            "19 block2a_expand_activation ---------> False \n",
            "20 block2a_dwconv_pad ---------> False \n",
            "21 block2a_dwconv ---------> False \n",
            "22 block2a_bn ---------> False \n",
            "23 block2a_activation ---------> False \n",
            "24 block2a_se_squeeze ---------> False \n",
            "25 block2a_se_reshape ---------> False \n",
            "26 block2a_se_reduce ---------> False \n",
            "27 block2a_se_expand ---------> False \n",
            "28 block2a_se_excite ---------> False \n",
            "29 block2a_project_conv ---------> False \n",
            "30 block2a_project_bn ---------> False \n",
            "31 block2b_expand_conv ---------> False \n",
            "32 block2b_expand_bn ---------> False \n",
            "33 block2b_expand_activation ---------> False \n",
            "34 block2b_dwconv ---------> False \n",
            "35 block2b_bn ---------> False \n",
            "36 block2b_activation ---------> False \n",
            "37 block2b_se_squeeze ---------> False \n",
            "38 block2b_se_reshape ---------> False \n",
            "39 block2b_se_reduce ---------> False \n",
            "40 block2b_se_expand ---------> False \n",
            "41 block2b_se_excite ---------> False \n",
            "42 block2b_project_conv ---------> False \n",
            "43 block2b_project_bn ---------> False \n",
            "44 block2b_drop ---------> False \n",
            "45 block2b_add ---------> False \n",
            "46 block3a_expand_conv ---------> False \n",
            "47 block3a_expand_bn ---------> False \n",
            "48 block3a_expand_activation ---------> False \n",
            "49 block3a_dwconv_pad ---------> False \n",
            "50 block3a_dwconv ---------> False \n",
            "51 block3a_bn ---------> False \n",
            "52 block3a_activation ---------> False \n",
            "53 block3a_se_squeeze ---------> False \n",
            "54 block3a_se_reshape ---------> False \n",
            "55 block3a_se_reduce ---------> False \n",
            "56 block3a_se_expand ---------> False \n",
            "57 block3a_se_excite ---------> False \n",
            "58 block3a_project_conv ---------> False \n",
            "59 block3a_project_bn ---------> False \n",
            "60 block3b_expand_conv ---------> False \n",
            "61 block3b_expand_bn ---------> False \n",
            "62 block3b_expand_activation ---------> False \n",
            "63 block3b_dwconv ---------> False \n",
            "64 block3b_bn ---------> False \n",
            "65 block3b_activation ---------> False \n",
            "66 block3b_se_squeeze ---------> False \n",
            "67 block3b_se_reshape ---------> False \n",
            "68 block3b_se_reduce ---------> False \n",
            "69 block3b_se_expand ---------> False \n",
            "70 block3b_se_excite ---------> False \n",
            "71 block3b_project_conv ---------> False \n",
            "72 block3b_project_bn ---------> False \n",
            "73 block3b_drop ---------> False \n",
            "74 block3b_add ---------> False \n",
            "75 block4a_expand_conv ---------> False \n",
            "76 block4a_expand_bn ---------> False \n",
            "77 block4a_expand_activation ---------> False \n",
            "78 block4a_dwconv_pad ---------> False \n",
            "79 block4a_dwconv ---------> False \n",
            "80 block4a_bn ---------> False \n",
            "81 block4a_activation ---------> False \n",
            "82 block4a_se_squeeze ---------> False \n",
            "83 block4a_se_reshape ---------> False \n",
            "84 block4a_se_reduce ---------> False \n",
            "85 block4a_se_expand ---------> False \n",
            "86 block4a_se_excite ---------> False \n",
            "87 block4a_project_conv ---------> False \n",
            "88 block4a_project_bn ---------> False \n",
            "89 block4b_expand_conv ---------> False \n",
            "90 block4b_expand_bn ---------> False \n",
            "91 block4b_expand_activation ---------> False \n",
            "92 block4b_dwconv ---------> False \n",
            "93 block4b_bn ---------> False \n",
            "94 block4b_activation ---------> False \n",
            "95 block4b_se_squeeze ---------> False \n",
            "96 block4b_se_reshape ---------> False \n",
            "97 block4b_se_reduce ---------> False \n",
            "98 block4b_se_expand ---------> False \n",
            "99 block4b_se_excite ---------> False \n",
            "100 block4b_project_conv ---------> False \n",
            "101 block4b_project_bn ---------> False \n",
            "102 block4b_drop ---------> False \n",
            "103 block4b_add ---------> False \n",
            "104 block4c_expand_conv ---------> False \n",
            "105 block4c_expand_bn ---------> False \n",
            "106 block4c_expand_activation ---------> False \n",
            "107 block4c_dwconv ---------> False \n",
            "108 block4c_bn ---------> False \n",
            "109 block4c_activation ---------> False \n",
            "110 block4c_se_squeeze ---------> False \n",
            "111 block4c_se_reshape ---------> False \n",
            "112 block4c_se_reduce ---------> False \n",
            "113 block4c_se_expand ---------> False \n",
            "114 block4c_se_excite ---------> False \n",
            "115 block4c_project_conv ---------> False \n",
            "116 block4c_project_bn ---------> False \n",
            "117 block4c_drop ---------> False \n",
            "118 block4c_add ---------> False \n",
            "119 block5a_expand_conv ---------> False \n",
            "120 block5a_expand_bn ---------> False \n",
            "121 block5a_expand_activation ---------> False \n",
            "122 block5a_dwconv ---------> False \n",
            "123 block5a_bn ---------> False \n",
            "124 block5a_activation ---------> False \n",
            "125 block5a_se_squeeze ---------> False \n",
            "126 block5a_se_reshape ---------> False \n",
            "127 block5a_se_reduce ---------> False \n",
            "128 block5a_se_expand ---------> False \n",
            "129 block5a_se_excite ---------> False \n",
            "130 block5a_project_conv ---------> False \n",
            "131 block5a_project_bn ---------> False \n",
            "132 block5b_expand_conv ---------> False \n",
            "133 block5b_expand_bn ---------> False \n",
            "134 block5b_expand_activation ---------> False \n",
            "135 block5b_dwconv ---------> False \n",
            "136 block5b_bn ---------> False \n",
            "137 block5b_activation ---------> False \n",
            "138 block5b_se_squeeze ---------> False \n",
            "139 block5b_se_reshape ---------> False \n",
            "140 block5b_se_reduce ---------> False \n",
            "141 block5b_se_expand ---------> False \n",
            "142 block5b_se_excite ---------> False \n",
            "143 block5b_project_conv ---------> False \n",
            "144 block5b_project_bn ---------> False \n",
            "145 block5b_drop ---------> False \n",
            "146 block5b_add ---------> False \n",
            "147 block5c_expand_conv ---------> False \n",
            "148 block5c_expand_bn ---------> False \n",
            "149 block5c_expand_activation ---------> False \n",
            "150 block5c_dwconv ---------> False \n",
            "151 block5c_bn ---------> False \n",
            "152 block5c_activation ---------> False \n",
            "153 block5c_se_squeeze ---------> False \n",
            "154 block5c_se_reshape ---------> False \n",
            "155 block5c_se_reduce ---------> False \n",
            "156 block5c_se_expand ---------> False \n",
            "157 block5c_se_excite ---------> False \n",
            "158 block5c_project_conv ---------> False \n",
            "159 block5c_project_bn ---------> False \n",
            "160 block5c_drop ---------> False \n",
            "161 block5c_add ---------> False \n",
            "162 block6a_expand_conv ---------> False \n",
            "163 block6a_expand_bn ---------> False \n",
            "164 block6a_expand_activation ---------> False \n",
            "165 block6a_dwconv_pad ---------> False \n",
            "166 block6a_dwconv ---------> False \n",
            "167 block6a_bn ---------> False \n",
            "168 block6a_activation ---------> False \n",
            "169 block6a_se_squeeze ---------> False \n",
            "170 block6a_se_reshape ---------> False \n",
            "171 block6a_se_reduce ---------> False \n",
            "172 block6a_se_expand ---------> False \n",
            "173 block6a_se_excite ---------> False \n",
            "174 block6a_project_conv ---------> False \n",
            "175 block6a_project_bn ---------> False \n",
            "176 block6b_expand_conv ---------> False \n",
            "177 block6b_expand_bn ---------> False \n",
            "178 block6b_expand_activation ---------> False \n",
            "179 block6b_dwconv ---------> False \n",
            "180 block6b_bn ---------> False \n",
            "181 block6b_activation ---------> False \n",
            "182 block6b_se_squeeze ---------> False \n",
            "183 block6b_se_reshape ---------> False \n",
            "184 block6b_se_reduce ---------> False \n",
            "185 block6b_se_expand ---------> False \n",
            "186 block6b_se_excite ---------> False \n",
            "187 block6b_project_conv ---------> False \n",
            "188 block6b_project_bn ---------> False \n",
            "189 block6b_drop ---------> False \n",
            "190 block6b_add ---------> False \n",
            "191 block6c_expand_conv ---------> False \n",
            "192 block6c_expand_bn ---------> False \n",
            "193 block6c_expand_activation ---------> False \n",
            "194 block6c_dwconv ---------> False \n",
            "195 block6c_bn ---------> False \n",
            "196 block6c_activation ---------> False \n",
            "197 block6c_se_squeeze ---------> False \n",
            "198 block6c_se_reshape ---------> False \n",
            "199 block6c_se_reduce ---------> False \n",
            "200 block6c_se_expand ---------> False \n",
            "201 block6c_se_excite ---------> False \n",
            "202 block6c_project_conv ---------> False \n",
            "203 block6c_project_bn ---------> False \n",
            "204 block6c_drop ---------> False \n",
            "205 block6c_add ---------> False \n",
            "206 block6d_expand_conv ---------> False \n",
            "207 block6d_expand_bn ---------> False \n",
            "208 block6d_expand_activation ---------> False \n",
            "209 block6d_dwconv ---------> False \n",
            "210 block6d_bn ---------> False \n",
            "211 block6d_activation ---------> False \n",
            "212 block6d_se_squeeze ---------> False \n",
            "213 block6d_se_reshape ---------> False \n",
            "214 block6d_se_reduce ---------> False \n",
            "215 block6d_se_expand ---------> False \n",
            "216 block6d_se_excite ---------> False \n",
            "217 block6d_project_conv ---------> False \n",
            "218 block6d_project_bn ---------> False \n",
            "219 block6d_drop ---------> False \n",
            "220 block6d_add ---------> False \n",
            "221 block7a_expand_conv ---------> False \n",
            "222 block7a_expand_bn ---------> False \n",
            "223 block7a_expand_activation ---------> False \n",
            "224 block7a_dwconv ---------> False \n",
            "225 block7a_bn ---------> False \n",
            "226 block7a_activation ---------> False \n",
            "227 block7a_se_squeeze ---------> True \n",
            "228 block7a_se_reshape ---------> True \n",
            "229 block7a_se_reduce ---------> True \n",
            "230 block7a_se_expand ---------> True \n",
            "231 block7a_se_excite ---------> True \n",
            "232 block7a_project_conv ---------> True \n",
            "233 block7a_project_bn ---------> True \n",
            "234 top_conv ---------> True \n",
            "235 top_bn ---------> True \n",
            "236 top_activation ---------> True \n"
          ],
          "name": "stdout"
        }
      ]
    },
    {
      "cell_type": "code",
      "metadata": {
        "colab": {
          "base_uri": "https://localhost:8080/"
        },
        "id": "BPS-X9bM3F0h",
        "outputId": "e56b70d0-cd00-4e5d-8dd7-68e566790b2e"
      },
      "source": [
        "model_2.compile(loss = 'sparse_categorical_crossentropy' , \n",
        "                optimizer = tf.keras.optimizers.Adam(lr = 0.0001) , \n",
        "                metrics = ['accuracy'])\n",
        "history_2_fine_tuned = model_2.fit(train_data , \n",
        "                   epochs = 6 , \n",
        "                   steps_per_epoch = len(train_data) ,\n",
        "                   validation_data = test_data , \n",
        "                   validation_steps = len(test_data) , \n",
        "                   initial_epoch = history_2.epoch[-1] ,\n",
        "                      callbacks = [create_tensorboard_callback('tensorflow_hub' , 'Model_2_using_DA_and_Fine_Tuning') , \n",
        "                                   create_model_checkPoint_callback('/content/Model_2_using_DA_and_Fine_Tuning_model_checkpoint_callback_files/checkpoint.ckpt')])"
      ],
      "execution_count": null,
      "outputs": [
        {
          "output_type": "stream",
          "text": [
            "Saving TensorBoard log files to: tensorflow_hub/Model_2_using_DA_and_Fine_Tuning/20210801-085547\n",
            "Epoch 3/6\n",
            "2368/2368 [==============================] - 226s 92ms/step - loss: 1.4881 - accuracy: 0.6143 - val_loss: 1.1393 - val_accuracy: 0.6917\n",
            "WARNING:tensorflow:Can save best model only with val_acc available, skipping.\n"
          ],
          "name": "stdout"
        },
        {
          "output_type": "stream",
          "text": [
            "WARNING:tensorflow:Can save best model only with val_acc available, skipping.\n"
          ],
          "name": "stderr"
        },
        {
          "output_type": "stream",
          "text": [
            "Epoch 4/6\n",
            "2368/2368 [==============================] - 216s 90ms/step - loss: 1.3447 - accuracy: 0.6486 - val_loss: 1.0880 - val_accuracy: 0.7039\n",
            "WARNING:tensorflow:Can save best model only with val_acc available, skipping.\n"
          ],
          "name": "stdout"
        },
        {
          "output_type": "stream",
          "text": [
            "WARNING:tensorflow:Can save best model only with val_acc available, skipping.\n"
          ],
          "name": "stderr"
        },
        {
          "output_type": "stream",
          "text": [
            "Epoch 5/6\n",
            "2368/2368 [==============================] - 214s 89ms/step - loss: 1.2533 - accuracy: 0.6698 - val_loss: 1.0669 - val_accuracy: 0.7105\n",
            "WARNING:tensorflow:Can save best model only with val_acc available, skipping.\n"
          ],
          "name": "stdout"
        },
        {
          "output_type": "stream",
          "text": [
            "WARNING:tensorflow:Can save best model only with val_acc available, skipping.\n"
          ],
          "name": "stderr"
        },
        {
          "output_type": "stream",
          "text": [
            "Epoch 6/6\n",
            "2368/2368 [==============================] - 216s 90ms/step - loss: 1.1779 - accuracy: 0.6870 - val_loss: 1.0523 - val_accuracy: 0.7127\n",
            "WARNING:tensorflow:Can save best model only with val_acc available, skipping.\n"
          ],
          "name": "stdout"
        },
        {
          "output_type": "stream",
          "text": [
            "WARNING:tensorflow:Can save best model only with val_acc available, skipping.\n"
          ],
          "name": "stderr"
        }
      ]
    },
    {
      "cell_type": "code",
      "metadata": {
        "colab": {
          "base_uri": "https://localhost:8080/"
        },
        "id": "z431AYzX3FyS",
        "outputId": "4d07eab2-eb24-440c-e73c-8f66ccd1c236"
      },
      "source": [
        "model_2_using_DA_and_Fine_Tuning_results = model_2.evaluate(test_data)"
      ],
      "execution_count": null,
      "outputs": [
        {
          "output_type": "stream",
          "text": [
            "790/790 [==============================] - 48s 61ms/step - loss: 1.0523 - accuracy: 0.7127\n"
          ],
          "name": "stdout"
        }
      ]
    },
    {
      "cell_type": "code",
      "metadata": {
        "id": "kpbQ0mUR3Fwi"
      },
      "source": [
        "!tensorboard dev upload --logdir /content/tensorflow_hub \\\n",
        "--name 'Food Classification using Transfer Learning' \\\n",
        "--description 'A series of different transfer learning experiments using fine-tuning' \\\n",
        "--one_shot"
      ],
      "execution_count": null,
      "outputs": []
    },
    {
      "cell_type": "code",
      "metadata": {
        "id": "EWkT54RF3FsZ"
      },
      "source": [
        "!tensorboard dev list"
      ],
      "execution_count": null,
      "outputs": []
    },
    {
      "cell_type": "code",
      "metadata": {
        "id": "XTICK9Jj3Fqa"
      },
      "source": [
        "!tensorboard dev delete --experiment_id M4JxpNZgREG3Z6PCZgsGxg\n"
      ],
      "execution_count": null,
      "outputs": []
    }
  ]
}